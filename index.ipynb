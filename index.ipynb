{
 "cells": [
  {
   "cell_type": "markdown",
   "metadata": {},
   "source": [
    "# Understanding Pandas Series and DataFrames\n",
    "\n",
    "## Introduction\n",
    "\n",
    "In this lesson, we're digging into `Series` and `DataFrames`, the two main data types you'll work with in the pandas library.\n",
    "\n",
    "## Objectives\n",
    "You will be able to:\n",
    "\n",
    "- Use the `.map()` and `.apply()` methods to apply a function to a pandas Series or DataFrame \n",
    "- Perform operations to change the structure of pandas DataFrames \n",
    "- Change the index of a pandas DataFrame \n",
    "- Change data types of columns in pandas DataFrames \n",
    "\n",
    "## Pandas Data Types vs. Base Python Data Types\n",
    "\n",
    "Built-in Python data types such as lists, dictionaries, and sets can be powerful in limited settings, but they often require:\n",
    "\n",
    "* Several lines of \"boilerplate\" code to accomplish common tasks, which opens up the possibility of mistakes\n",
    "* Extra unnecessary memory space for storing data types. For example, if you have a Python `list` of 100 integers, you are also storing the fact that each one is an integer, and you store that same information again if you increase the length of the list by 1\n",
    "\n",
    "Using pandas data types such as Series and DataFrames instead of built-in Python data types can address both of these issues. Series and DataFrames have a range of built-in methods which make standard practices and procedures streamlined. Some of these methods can result in dramatic performance gains. To read more about these methods, make sure to continuously reference the [Pandas documentation](https://pandas.pydata.org/pandas-docs/stable/).\n",
    "\n",
    "With built-in Python types, it is useful to know all of the available methods, since each of them is likely to come up at one point or another, and there aren't that many. **In pandas, by contrast, it is impossible to know every method at any given time, and you should not devote much time to memorization.** We will not deeply explain every pandas method since a critical part of every data scientist's job is to investigate documentation to learn about components of these tools on your own. When you are trying to do something new with your data, there will probably be a pandas method for it, and you'll work over time to get better at finding the appropriate method using the documentation, Google, and StackOverflow.\n",
    "\n",
    "## Setup\n",
    "\n",
    "This MTA turnstile dataset is a great place for us to get our hands dirty wrangling and cleaning some data. Here's the data dictionary if you want to know more about the dataset http://web.mta.info/developers/resources/nyct/turnstile/ts_Field_Description.txt  \n",
    "\n",
    "Let's import the packages we need and load and preview the dataset.\n",
    "\n",
    "### Import `pandas`"
   ]
  },
  {
   "cell_type": "code",
   "execution_count": 18,
   "metadata": {},
   "outputs": [],
   "source": [
    "import pandas as pd"
   ]
  },
  {
   "cell_type": "markdown",
   "metadata": {},
   "source": [
    "### Load and Preview Dataset"
   ]
  },
  {
   "cell_type": "code",
   "execution_count": 19,
   "metadata": {},
   "outputs": [
    {
     "data": {
      "text/html": [
       "<div>\n",
       "<style scoped>\n",
       "    .dataframe tbody tr th:only-of-type {\n",
       "        vertical-align: middle;\n",
       "    }\n",
       "\n",
       "    .dataframe tbody tr th {\n",
       "        vertical-align: top;\n",
       "    }\n",
       "\n",
       "    .dataframe thead th {\n",
       "        text-align: right;\n",
       "    }\n",
       "</style>\n",
       "<table border=\"1\" class=\"dataframe\">\n",
       "  <thead>\n",
       "    <tr style=\"text-align: right;\">\n",
       "      <th></th>\n",
       "      <th>C/A</th>\n",
       "      <th>UNIT</th>\n",
       "      <th>SCP</th>\n",
       "      <th>STATION</th>\n",
       "      <th>LINENAME</th>\n",
       "      <th>DIVISION</th>\n",
       "      <th>DATE</th>\n",
       "      <th>TIME</th>\n",
       "      <th>DESC</th>\n",
       "      <th>ENTRIES</th>\n",
       "      <th>EXITS</th>\n",
       "    </tr>\n",
       "  </thead>\n",
       "  <tbody>\n",
       "    <tr>\n",
       "      <th>0</th>\n",
       "      <td>A002</td>\n",
       "      <td>R051</td>\n",
       "      <td>02-00-00</td>\n",
       "      <td>59 ST</td>\n",
       "      <td>NQR456W</td>\n",
       "      <td>BMT</td>\n",
       "      <td>08/25/2018</td>\n",
       "      <td>00:00:00</td>\n",
       "      <td>REGULAR</td>\n",
       "      <td>0006736067</td>\n",
       "      <td>0002283184                                    ...</td>\n",
       "    </tr>\n",
       "    <tr>\n",
       "      <th>1</th>\n",
       "      <td>A002</td>\n",
       "      <td>R051</td>\n",
       "      <td>02-00-00</td>\n",
       "      <td>59 ST</td>\n",
       "      <td>NQR456W</td>\n",
       "      <td>BMT</td>\n",
       "      <td>08/25/2018</td>\n",
       "      <td>04:00:00</td>\n",
       "      <td>REGULAR</td>\n",
       "      <td>0006736087</td>\n",
       "      <td>0002283188                                    ...</td>\n",
       "    </tr>\n",
       "    <tr>\n",
       "      <th>2</th>\n",
       "      <td>A002</td>\n",
       "      <td>R051</td>\n",
       "      <td>02-00-00</td>\n",
       "      <td>59 ST</td>\n",
       "      <td>NQR456W</td>\n",
       "      <td>BMT</td>\n",
       "      <td>08/25/2018</td>\n",
       "      <td>08:00:00</td>\n",
       "      <td>REGULAR</td>\n",
       "      <td>0006736105</td>\n",
       "      <td>0002283229                                    ...</td>\n",
       "    </tr>\n",
       "    <tr>\n",
       "      <th>3</th>\n",
       "      <td>A002</td>\n",
       "      <td>R051</td>\n",
       "      <td>02-00-00</td>\n",
       "      <td>59 ST</td>\n",
       "      <td>NQR456W</td>\n",
       "      <td>BMT</td>\n",
       "      <td>08/25/2018</td>\n",
       "      <td>12:00:00</td>\n",
       "      <td>REGULAR</td>\n",
       "      <td>0006736180</td>\n",
       "      <td>0002283314                                    ...</td>\n",
       "    </tr>\n",
       "    <tr>\n",
       "      <th>4</th>\n",
       "      <td>A002</td>\n",
       "      <td>R051</td>\n",
       "      <td>02-00-00</td>\n",
       "      <td>59 ST</td>\n",
       "      <td>NQR456W</td>\n",
       "      <td>BMT</td>\n",
       "      <td>08/25/2018</td>\n",
       "      <td>16:00:00</td>\n",
       "      <td>REGULAR</td>\n",
       "      <td>0006736349</td>\n",
       "      <td>0002283384                                    ...</td>\n",
       "    </tr>\n",
       "    <tr>\n",
       "      <th>...</th>\n",
       "      <td>...</td>\n",
       "      <td>...</td>\n",
       "      <td>...</td>\n",
       "      <td>...</td>\n",
       "      <td>...</td>\n",
       "      <td>...</td>\n",
       "      <td>...</td>\n",
       "      <td>...</td>\n",
       "      <td>...</td>\n",
       "      <td>...</td>\n",
       "      <td>...</td>\n",
       "    </tr>\n",
       "    <tr>\n",
       "      <th>197620</th>\n",
       "      <td>TRAM2</td>\n",
       "      <td>R469</td>\n",
       "      <td>00-05-01</td>\n",
       "      <td>RIT-ROOSEVELT</td>\n",
       "      <td>R</td>\n",
       "      <td>RIT</td>\n",
       "      <td>08/31/2018</td>\n",
       "      <td>05:00:00</td>\n",
       "      <td>REGULAR</td>\n",
       "      <td>0000005554</td>\n",
       "      <td>0000000348                                    ...</td>\n",
       "    </tr>\n",
       "    <tr>\n",
       "      <th>197621</th>\n",
       "      <td>TRAM2</td>\n",
       "      <td>R469</td>\n",
       "      <td>00-05-01</td>\n",
       "      <td>RIT-ROOSEVELT</td>\n",
       "      <td>R</td>\n",
       "      <td>RIT</td>\n",
       "      <td>08/31/2018</td>\n",
       "      <td>09:00:00</td>\n",
       "      <td>REGULAR</td>\n",
       "      <td>0000005554</td>\n",
       "      <td>0000000348                                    ...</td>\n",
       "    </tr>\n",
       "    <tr>\n",
       "      <th>197622</th>\n",
       "      <td>TRAM2</td>\n",
       "      <td>R469</td>\n",
       "      <td>00-05-01</td>\n",
       "      <td>RIT-ROOSEVELT</td>\n",
       "      <td>R</td>\n",
       "      <td>RIT</td>\n",
       "      <td>08/31/2018</td>\n",
       "      <td>13:00:00</td>\n",
       "      <td>REGULAR</td>\n",
       "      <td>0000005554</td>\n",
       "      <td>0000000348                                    ...</td>\n",
       "    </tr>\n",
       "    <tr>\n",
       "      <th>197623</th>\n",
       "      <td>TRAM2</td>\n",
       "      <td>R469</td>\n",
       "      <td>00-05-01</td>\n",
       "      <td>RIT-ROOSEVELT</td>\n",
       "      <td>R</td>\n",
       "      <td>RIT</td>\n",
       "      <td>08/31/2018</td>\n",
       "      <td>17:00:00</td>\n",
       "      <td>REGULAR</td>\n",
       "      <td>0000005554</td>\n",
       "      <td>0000000348                                    ...</td>\n",
       "    </tr>\n",
       "    <tr>\n",
       "      <th>197624</th>\n",
       "      <td>TRAM2</td>\n",
       "      <td>R469</td>\n",
       "      <td>00-05-01</td>\n",
       "      <td>RIT-ROOSEVELT</td>\n",
       "      <td>R</td>\n",
       "      <td>RIT</td>\n",
       "      <td>08/31/2018</td>\n",
       "      <td>21:00:00</td>\n",
       "      <td>REGULAR</td>\n",
       "      <td>0000005554</td>\n",
       "      <td>0000000348                                    ...</td>\n",
       "    </tr>\n",
       "  </tbody>\n",
       "</table>\n",
       "<p>197625 rows × 11 columns</p>\n",
       "</div>"
      ],
      "text/plain": [
       "          C/A  UNIT       SCP        STATION LINENAME DIVISION        DATE  \\\n",
       "0        A002  R051  02-00-00          59 ST  NQR456W      BMT  08/25/2018   \n",
       "1        A002  R051  02-00-00          59 ST  NQR456W      BMT  08/25/2018   \n",
       "2        A002  R051  02-00-00          59 ST  NQR456W      BMT  08/25/2018   \n",
       "3        A002  R051  02-00-00          59 ST  NQR456W      BMT  08/25/2018   \n",
       "4        A002  R051  02-00-00          59 ST  NQR456W      BMT  08/25/2018   \n",
       "...       ...   ...       ...            ...      ...      ...         ...   \n",
       "197620  TRAM2  R469  00-05-01  RIT-ROOSEVELT        R      RIT  08/31/2018   \n",
       "197621  TRAM2  R469  00-05-01  RIT-ROOSEVELT        R      RIT  08/31/2018   \n",
       "197622  TRAM2  R469  00-05-01  RIT-ROOSEVELT        R      RIT  08/31/2018   \n",
       "197623  TRAM2  R469  00-05-01  RIT-ROOSEVELT        R      RIT  08/31/2018   \n",
       "197624  TRAM2  R469  00-05-01  RIT-ROOSEVELT        R      RIT  08/31/2018   \n",
       "\n",
       "            TIME     DESC     ENTRIES  \\\n",
       "0       00:00:00  REGULAR  0006736067   \n",
       "1       04:00:00  REGULAR  0006736087   \n",
       "2       08:00:00  REGULAR  0006736105   \n",
       "3       12:00:00  REGULAR  0006736180   \n",
       "4       16:00:00  REGULAR  0006736349   \n",
       "...          ...      ...         ...   \n",
       "197620  05:00:00  REGULAR  0000005554   \n",
       "197621  09:00:00  REGULAR  0000005554   \n",
       "197622  13:00:00  REGULAR  0000005554   \n",
       "197623  17:00:00  REGULAR  0000005554   \n",
       "197624  21:00:00  REGULAR  0000005554   \n",
       "\n",
       "       EXITS                                                                 \n",
       "0       0002283184                                    ...                    \n",
       "1       0002283188                                    ...                    \n",
       "2       0002283229                                    ...                    \n",
       "3       0002283314                                    ...                    \n",
       "4       0002283384                                    ...                    \n",
       "...                                                   ...                    \n",
       "197620  0000000348                                    ...                    \n",
       "197621  0000000348                                    ...                    \n",
       "197622  0000000348                                    ...                    \n",
       "197623  0000000348                                    ...                    \n",
       "197624  0000000348                                    ...                    \n",
       "\n",
       "[197625 rows x 11 columns]"
      ]
     },
     "execution_count": 19,
     "metadata": {},
     "output_type": "execute_result"
    }
   ],
   "source": [
    "df = pd.read_csv('turnstile_180901.txt', dtype=str)\n",
    "df"
   ]
  },
  {
   "cell_type": "code",
   "execution_count": 20,
   "metadata": {},
   "outputs": [
    {
     "name": "stdout",
     "output_type": "stream",
     "text": [
      "<class 'pandas.core.frame.DataFrame'>\n",
      "RangeIndex: 197625 entries, 0 to 197624\n",
      "Data columns (total 11 columns):\n",
      " #   Column                                                                Non-Null Count   Dtype \n",
      "---  ------                                                                --------------   ----- \n",
      " 0   C/A                                                                   197625 non-null  object\n",
      " 1   UNIT                                                                  197625 non-null  object\n",
      " 2   SCP                                                                   197625 non-null  object\n",
      " 3   STATION                                                               197625 non-null  object\n",
      " 4   LINENAME                                                              197625 non-null  object\n",
      " 5   DIVISION                                                              197625 non-null  object\n",
      " 6   DATE                                                                  197625 non-null  object\n",
      " 7   TIME                                                                  197625 non-null  object\n",
      " 8   DESC                                                                  197625 non-null  object\n",
      " 9   ENTRIES                                                               197625 non-null  object\n",
      " 10  EXITS                                                                 197625 non-null  object\n",
      "dtypes: object(11)\n",
      "memory usage: 16.6+ MB\n"
     ]
    }
   ],
   "source": [
    "df.info()"
   ]
  },
  {
   "cell_type": "code",
   "execution_count": 21,
   "metadata": {},
   "outputs": [
    {
     "data": {
      "text/plain": [
       "Index(['C/A', 'UNIT', 'SCP', 'STATION', 'LINENAME', 'DIVISION', 'DATE', 'TIME',\n",
       "       'DESC', 'ENTRIES',\n",
       "       'EXITS                                                               '],\n",
       "      dtype='object')"
      ]
     },
     "execution_count": 21,
     "metadata": {},
     "output_type": "execute_result"
    }
   ],
   "source": [
    "# uncleaned data\n",
    "df .columns"
   ]
  },
  {
   "cell_type": "code",
   "execution_count": 22,
   "metadata": {},
   "outputs": [
    {
     "data": {
      "text/plain": [
       "Index(['C/A', 'UNIT', 'SCP', 'STATION', 'LINENAME', 'DIVISION', 'DATE', 'TIME',\n",
       "       'DESC', 'ENTRIES', 'EXITS'],\n",
       "      dtype='object')"
      ]
     },
     "execution_count": 22,
     "metadata": {},
     "output_type": "execute_result"
    }
   ],
   "source": [
    "# to clean data by  reducing uneccesarry spaces\n",
    "df.columns.str.strip()"
   ]
  },
  {
   "cell_type": "code",
   "execution_count": 23,
   "metadata": {},
   "outputs": [
    {
     "name": "stdout",
     "output_type": "stream",
     "text": [
      "c/a\n",
      "unit\n",
      "scp\n",
      "station\n",
      "linename\n",
      "division\n",
      "date\n",
      "time\n",
      "desc\n",
      "entries\n",
      "exits                                                               \n"
     ]
    }
   ],
   "source": [
    "columns = df.columns\n",
    "for i in columns:\n",
    "    print(i.lower())"
   ]
  },
  {
   "cell_type": "code",
   "execution_count": 24,
   "metadata": {},
   "outputs": [
    {
     "data": {
      "text/plain": [
       "Index(['c/a', 'unit', 'scp', 'station', 'linename', 'division', 'date', 'time',\n",
       "       'desc', 'entries',\n",
       "       'exits                                                               '],\n",
       "      dtype='object')"
      ]
     },
     "execution_count": 24,
     "metadata": {},
     "output_type": "execute_result"
    }
   ],
   "source": [
    "df.columns.str.lower()"
   ]
  },
  {
   "cell_type": "markdown",
   "metadata": {},
   "source": [
    "## Using `.map()` to Transform Values\n",
    "\n",
    "A standard data preparation step you might need to perform is \"cleaning up\" the values of a dataset so they follow your desired format. The `.map()` method is key for this task.\n",
    "\n",
    "### Passing in a Dictionary\n",
    "\n",
    "One of the most straightforward ways to use the `.map()` method on a pandas Series is with a **dictionary of values you want to use to replace other values**.\n",
    "\n",
    "Let's say we want to look at the `DIVISION` column:"
   ]
  },
  {
   "cell_type": "code",
   "execution_count": 25,
   "metadata": {},
   "outputs": [
    {
     "data": {
      "text/plain": [
       "array(['BMT', 'IND', 'PTH', 'IRT', 'SRT', 'RIT'], dtype=object)"
      ]
     },
     "execution_count": 25,
     "metadata": {},
     "output_type": "execute_result"
    }
   ],
   "source": [
    "#prints the unique values in the division column\n",
    "#count the values in the dvision column\n",
    "df['DIVISION'].unique()\n",
    "#len(df['DIVISION'].unique())"
   ]
  },
  {
   "cell_type": "code",
   "execution_count": 26,
   "metadata": {},
   "outputs": [
    {
     "data": {
      "text/plain": [
       "(197625, 11)"
      ]
     },
     "execution_count": 26,
     "metadata": {},
     "output_type": "execute_result"
    }
   ],
   "source": [
    "# check the size of the dataset\n",
    "df.shape"
   ]
  },
  {
   "cell_type": "code",
   "execution_count": 27,
   "metadata": {},
   "outputs": [
    {
     "data": {
      "text/plain": [
       "DIVISION\n",
       "IRT    72198\n",
       "IND    69274\n",
       "BMT    41727\n",
       "PTH    12788\n",
       "SRT     1386\n",
       "RIT      252\n",
       "Name: count, dtype: int64"
      ]
     },
     "execution_count": 27,
     "metadata": {},
     "output_type": "execute_result"
    }
   ],
   "source": [
    "#used to print count per rows/entry in unique values \n",
    "df['DIVISION'].value_counts()"
   ]
  },
  {
   "cell_type": "markdown",
   "metadata": {},
   "source": [
    "*If you have not seen `value_counts()` before, this would be a good time to check out the [documentation for it](https://pandas.pydata.org/pandas-docs/stable/reference/api/pandas.Series.value_counts.html)! We use this method very frequently to understand the distribution of categorical data*"
   ]
  },
  {
   "cell_type": "markdown",
   "metadata": {},
   "source": [
    "We look up some additional information, and locate the following mappings:\n",
    "\n",
    "| Abbreviation | Full Name                              |\n",
    "| ------------ | -------------------------------------- |\n",
    "| IRT          | Interborough Rapid Transit Company     |\n",
    "| IND          | Independent Subway System              |\n",
    "| BMT          | Brooklyn–Manhattan Transit Corporation |\n",
    "| PTH          | Port Authority Trans-Hudson (PATH)     |\n",
    "| SRT          | Staten Island Rapid Transit            |\n",
    "| RIT          | Roosevelt Island Tram                  |\n",
    "\n",
    "\n",
    "To represent this in Python, let's use a dictionary with the abbreviations as keys and full names as values."
   ]
  },
  {
   "cell_type": "code",
   "execution_count": 28,
   "metadata": {},
   "outputs": [],
   "source": [
    "# form a dictionaryusing the chart above\n",
    "division_mapping = {\n",
    "    \"IRT\": \"Interborough Rapid Transit Company\",\n",
    "    \"IND\": \"Independent Subway System\",\n",
    "    \"BMT\": \"Brooklyn–Manhattan Transit Corporation\",\n",
    "    \"PTH\": \"Port Authority Trans-Hudson (PATH)\",\n",
    "    \"SRT\": \"Staten Island Rapid Transit\",\n",
    "    \"RIT\": \"Roosevelt Island Tram\"\n",
    "}"
   ]
  },
  {
   "cell_type": "code",
   "execution_count": 29,
   "metadata": {},
   "outputs": [
    {
     "data": {
      "text/plain": [
       "{'IRT': 'Interborough Rapid Transit Company',\n",
       " 'IND': 'Independent Subway System',\n",
       " 'BMT': 'Brooklyn–Manhattan Transit Corporation',\n",
       " 'PTH': 'Port Authority Trans-Hudson (PATH)',\n",
       " 'SRT': 'Staten Island Rapid Transit',\n",
       " 'RIT': 'Roosevelt Island Tram'}"
      ]
     },
     "execution_count": 29,
     "metadata": {},
     "output_type": "execute_result"
    }
   ],
   "source": [
    "division_mapping "
   ]
  },
  {
   "cell_type": "markdown",
   "metadata": {},
   "source": [
    "Now we can call the `.map()` method to return a Series with the abbreviations transformed into full names:"
   ]
  },
  {
   "cell_type": "code",
   "execution_count": 30,
   "metadata": {},
   "outputs": [
    {
     "data": {
      "text/plain": [
       "0         Brooklyn–Manhattan Transit Corporation\n",
       "1         Brooklyn–Manhattan Transit Corporation\n",
       "2         Brooklyn–Manhattan Transit Corporation\n",
       "3         Brooklyn–Manhattan Transit Corporation\n",
       "4         Brooklyn–Manhattan Transit Corporation\n",
       "                           ...                  \n",
       "197620                     Roosevelt Island Tram\n",
       "197621                     Roosevelt Island Tram\n",
       "197622                     Roosevelt Island Tram\n",
       "197623                     Roosevelt Island Tram\n",
       "197624                     Roosevelt Island Tram\n",
       "Name: DIVISION, Length: 197625, dtype: object"
      ]
     },
     "execution_count": 30,
     "metadata": {},
     "output_type": "execute_result"
    }
   ],
   "source": [
    "#map the dictionary in the previous column\n",
    "df['DIVISION'].map(division_mapping)\n"
   ]
  },
  {
   "cell_type": "markdown",
   "metadata": {},
   "source": [
    "Let's go ahead and replace the `DIVISION` column in `df` with these new, transformed values:"
   ]
  },
  {
   "cell_type": "code",
   "execution_count": 31,
   "metadata": {},
   "outputs": [
    {
     "data": {
      "text/plain": [
       "DIVISION\n",
       "Interborough Rapid Transit Company        72198\n",
       "Independent Subway System                 69274\n",
       "Brooklyn–Manhattan Transit Corporation    41727\n",
       "Port Authority Trans-Hudson (PATH)        12788\n",
       "Staten Island Rapid Transit                1386\n",
       "Roosevelt Island Tram                       252\n",
       "Name: count, dtype: int64"
      ]
     },
     "execution_count": 31,
     "metadata": {},
     "output_type": "execute_result"
    }
   ],
   "source": [
    "df['DIVISION'] = df['DIVISION'].map(division_mapping)\n",
    "df['DIVISION'].value_counts()"
   ]
  },
  {
   "cell_type": "code",
   "execution_count": 32,
   "metadata": {},
   "outputs": [],
   "source": [
    "df.rename(columns={'C/A': 'Control Area'}, inplace=True)\n"
   ]
  },
  {
   "cell_type": "code",
   "execution_count": 33,
   "metadata": {},
   "outputs": [
    {
     "data": {
      "text/plain": [
       "Index(['Control Area', 'UNIT', 'SCP', 'STATION', 'LINENAME', 'DIVISION',\n",
       "       'DATE', 'TIME', 'DESC', 'ENTRIES',\n",
       "       'EXITS                                                               '],\n",
       "      dtype='object')"
      ]
     },
     "execution_count": 33,
     "metadata": {},
     "output_type": "execute_result"
    }
   ],
   "source": [
    "df.columns"
   ]
  },
  {
   "cell_type": "markdown",
   "metadata": {},
   "source": [
    "### Passing in a Function\n",
    "\n",
    "Another way to use the `.map()` method is by passing in a function.\n",
    "\n",
    "Let's say we want to look at the `LINENAME` column:"
   ]
  },
  {
   "cell_type": "code",
   "execution_count": 8,
   "metadata": {},
   "outputs": [
    {
     "data": {
      "text/plain": [
       "1        24092\n",
       "6        11263\n",
       "7         9562\n",
       "F         7146\n",
       "25        6881\n",
       "         ...  \n",
       "LG         210\n",
       "R2345      210\n",
       "ND         209\n",
       "23ACE      168\n",
       "S2345      168\n",
       "Name: LINENAME, Length: 113, dtype: int64"
      ]
     },
     "execution_count": 8,
     "metadata": {},
     "output_type": "execute_result"
    }
   ],
   "source": [
    "df['LINENAME'].value_counts()"
   ]
  },
  {
   "cell_type": "markdown",
   "metadata": {},
   "source": [
    "The `...` in the middle means this is a shortened version of the full value counts. `Length: 113` means there are 113 different categories present in the column.\n",
    "\n",
    "Rather than substituting these values with some other values like we did with `DIVISION`, let's say we want a boolean (`True` or `False`) value representing whether or not the `LINENAME` contains the string `\"N\"` (i.e. whether or not the stop is an N line stop). We can do this with a function.\n",
    "\n",
    "#### Functions in Python Review\n",
    "\n",
    "Let's review how to do this:\n",
    "\n",
    "* In Python, we define a function using the `def` keyword. Afterwards, we give the function a name, followed by parentheses. Any required (or optional) parameters are specified within the parentheses (`()`), just as you would when you call a function.\n",
    "* You then specify the function's behavior using a colon (`:`) and an indentation, much the same way you would a `for` loop or conditional block.\n",
    "* Finally, if you want your function to return something (as with the `str.pop()` method) as opposed to a function that simply does something in the background but returns nothing (such as `list.append()`), you must use the `return` keyword. Note that as soon as a function hits a point in execution where something is returned, the function would terminate and no further commands would be executed. In other words the `return` command both returns a value and forces termination of the function.\n",
    "\n",
    "Let's define a function that takes in a string and returns `True` if that string contains the letter `'N'`, and returns `False` otherwise."
   ]
  },
  {
   "cell_type": "code",
   "execution_count": 34,
   "metadata": {},
   "outputs": [],
   "source": [
    "def contains_n(text):\n",
    "    if 'N' in text:\n",
    "        return True\n",
    "    else:\n",
    "        return False\n",
    "\n",
    "# Or the shorter, more pythonic way\n",
    "# (this overwrites the previous function)\n",
    "def contains_n(text):\n",
    "    return 'N' in text"
   ]
  },
  {
   "cell_type": "markdown",
   "metadata": {},
   "source": [
    "Then call the `.map()` method and pass in the function:"
   ]
  },
  {
   "cell_type": "code",
   "execution_count": 35,
   "metadata": {},
   "outputs": [
    {
     "data": {
      "text/plain": [
       "0          True\n",
       "1          True\n",
       "2          True\n",
       "3          True\n",
       "4          True\n",
       "          ...  \n",
       "197620    False\n",
       "197621    False\n",
       "197622    False\n",
       "197623    False\n",
       "197624    False\n",
       "Name: LINENAME, Length: 197625, dtype: bool"
      ]
     },
     "execution_count": 35,
     "metadata": {},
     "output_type": "execute_result"
    }
   ],
   "source": [
    "df['LINENAME'].map(contains_n)"
   ]
  },
  {
   "cell_type": "markdown",
   "metadata": {},
   "source": [
    "Note that for a pandas Series, the `.apply()` method can be used interchangeably with the `.map()` method when a function is provided (with somewhat different implementations \"under the hood\"):"
   ]
  },
  {
   "cell_type": "code",
   "execution_count": 36,
   "metadata": {},
   "outputs": [
    {
     "data": {
      "text/plain": [
       "0          True\n",
       "1          True\n",
       "2          True\n",
       "3          True\n",
       "4          True\n",
       "          ...  \n",
       "197620    False\n",
       "197621    False\n",
       "197622    False\n",
       "197623    False\n",
       "197624    False\n",
       "Name: LINENAME, Length: 197625, dtype: bool"
      ]
     },
     "execution_count": 36,
     "metadata": {},
     "output_type": "execute_result"
    }
   ],
   "source": [
    "df['LINENAME'].apply(contains_n)"
   ]
  },
  {
   "cell_type": "markdown",
   "metadata": {},
   "source": [
    "Rather than replacing `LINENAME` in the dataframe, let's create a new column to hold this result:"
   ]
  },
  {
   "cell_type": "code",
   "execution_count": 12,
   "metadata": {},
   "outputs": [
    {
     "data": {
      "text/html": [
       "<div>\n",
       "<style scoped>\n",
       "    .dataframe tbody tr th:only-of-type {\n",
       "        vertical-align: middle;\n",
       "    }\n",
       "\n",
       "    .dataframe tbody tr th {\n",
       "        vertical-align: top;\n",
       "    }\n",
       "\n",
       "    .dataframe thead th {\n",
       "        text-align: right;\n",
       "    }\n",
       "</style>\n",
       "<table border=\"1\" class=\"dataframe\">\n",
       "  <thead>\n",
       "    <tr style=\"text-align: right;\">\n",
       "      <th></th>\n",
       "      <th>C/A</th>\n",
       "      <th>UNIT</th>\n",
       "      <th>SCP</th>\n",
       "      <th>STATION</th>\n",
       "      <th>LINENAME</th>\n",
       "      <th>DIVISION</th>\n",
       "      <th>DATE</th>\n",
       "      <th>TIME</th>\n",
       "      <th>DESC</th>\n",
       "      <th>ENTRIES</th>\n",
       "      <th>EXITS</th>\n",
       "      <th>On_N_Line</th>\n",
       "    </tr>\n",
       "  </thead>\n",
       "  <tbody>\n",
       "    <tr>\n",
       "      <th>0</th>\n",
       "      <td>A002</td>\n",
       "      <td>R051</td>\n",
       "      <td>02-00-00</td>\n",
       "      <td>59 ST</td>\n",
       "      <td>NQR456W</td>\n",
       "      <td>Brooklyn–Manhattan Transit Corporation</td>\n",
       "      <td>08/25/2018</td>\n",
       "      <td>00:00:00</td>\n",
       "      <td>REGULAR</td>\n",
       "      <td>0006736067</td>\n",
       "      <td>0002283184                                    ...</td>\n",
       "      <td>True</td>\n",
       "    </tr>\n",
       "    <tr>\n",
       "      <th>1</th>\n",
       "      <td>A002</td>\n",
       "      <td>R051</td>\n",
       "      <td>02-00-00</td>\n",
       "      <td>59 ST</td>\n",
       "      <td>NQR456W</td>\n",
       "      <td>Brooklyn–Manhattan Transit Corporation</td>\n",
       "      <td>08/25/2018</td>\n",
       "      <td>04:00:00</td>\n",
       "      <td>REGULAR</td>\n",
       "      <td>0006736087</td>\n",
       "      <td>0002283188                                    ...</td>\n",
       "      <td>True</td>\n",
       "    </tr>\n",
       "    <tr>\n",
       "      <th>2</th>\n",
       "      <td>A002</td>\n",
       "      <td>R051</td>\n",
       "      <td>02-00-00</td>\n",
       "      <td>59 ST</td>\n",
       "      <td>NQR456W</td>\n",
       "      <td>Brooklyn–Manhattan Transit Corporation</td>\n",
       "      <td>08/25/2018</td>\n",
       "      <td>08:00:00</td>\n",
       "      <td>REGULAR</td>\n",
       "      <td>0006736105</td>\n",
       "      <td>0002283229                                    ...</td>\n",
       "      <td>True</td>\n",
       "    </tr>\n",
       "    <tr>\n",
       "      <th>3</th>\n",
       "      <td>A002</td>\n",
       "      <td>R051</td>\n",
       "      <td>02-00-00</td>\n",
       "      <td>59 ST</td>\n",
       "      <td>NQR456W</td>\n",
       "      <td>Brooklyn–Manhattan Transit Corporation</td>\n",
       "      <td>08/25/2018</td>\n",
       "      <td>12:00:00</td>\n",
       "      <td>REGULAR</td>\n",
       "      <td>0006736180</td>\n",
       "      <td>0002283314                                    ...</td>\n",
       "      <td>True</td>\n",
       "    </tr>\n",
       "    <tr>\n",
       "      <th>4</th>\n",
       "      <td>A002</td>\n",
       "      <td>R051</td>\n",
       "      <td>02-00-00</td>\n",
       "      <td>59 ST</td>\n",
       "      <td>NQR456W</td>\n",
       "      <td>Brooklyn–Manhattan Transit Corporation</td>\n",
       "      <td>08/25/2018</td>\n",
       "      <td>16:00:00</td>\n",
       "      <td>REGULAR</td>\n",
       "      <td>0006736349</td>\n",
       "      <td>0002283384                                    ...</td>\n",
       "      <td>True</td>\n",
       "    </tr>\n",
       "    <tr>\n",
       "      <th>...</th>\n",
       "      <td>...</td>\n",
       "      <td>...</td>\n",
       "      <td>...</td>\n",
       "      <td>...</td>\n",
       "      <td>...</td>\n",
       "      <td>...</td>\n",
       "      <td>...</td>\n",
       "      <td>...</td>\n",
       "      <td>...</td>\n",
       "      <td>...</td>\n",
       "      <td>...</td>\n",
       "      <td>...</td>\n",
       "    </tr>\n",
       "    <tr>\n",
       "      <th>197620</th>\n",
       "      <td>TRAM2</td>\n",
       "      <td>R469</td>\n",
       "      <td>00-05-01</td>\n",
       "      <td>RIT-ROOSEVELT</td>\n",
       "      <td>R</td>\n",
       "      <td>Roosevelt Island Tram</td>\n",
       "      <td>08/31/2018</td>\n",
       "      <td>05:00:00</td>\n",
       "      <td>REGULAR</td>\n",
       "      <td>0000005554</td>\n",
       "      <td>0000000348                                    ...</td>\n",
       "      <td>False</td>\n",
       "    </tr>\n",
       "    <tr>\n",
       "      <th>197621</th>\n",
       "      <td>TRAM2</td>\n",
       "      <td>R469</td>\n",
       "      <td>00-05-01</td>\n",
       "      <td>RIT-ROOSEVELT</td>\n",
       "      <td>R</td>\n",
       "      <td>Roosevelt Island Tram</td>\n",
       "      <td>08/31/2018</td>\n",
       "      <td>09:00:00</td>\n",
       "      <td>REGULAR</td>\n",
       "      <td>0000005554</td>\n",
       "      <td>0000000348                                    ...</td>\n",
       "      <td>False</td>\n",
       "    </tr>\n",
       "    <tr>\n",
       "      <th>197622</th>\n",
       "      <td>TRAM2</td>\n",
       "      <td>R469</td>\n",
       "      <td>00-05-01</td>\n",
       "      <td>RIT-ROOSEVELT</td>\n",
       "      <td>R</td>\n",
       "      <td>Roosevelt Island Tram</td>\n",
       "      <td>08/31/2018</td>\n",
       "      <td>13:00:00</td>\n",
       "      <td>REGULAR</td>\n",
       "      <td>0000005554</td>\n",
       "      <td>0000000348                                    ...</td>\n",
       "      <td>False</td>\n",
       "    </tr>\n",
       "    <tr>\n",
       "      <th>197623</th>\n",
       "      <td>TRAM2</td>\n",
       "      <td>R469</td>\n",
       "      <td>00-05-01</td>\n",
       "      <td>RIT-ROOSEVELT</td>\n",
       "      <td>R</td>\n",
       "      <td>Roosevelt Island Tram</td>\n",
       "      <td>08/31/2018</td>\n",
       "      <td>17:00:00</td>\n",
       "      <td>REGULAR</td>\n",
       "      <td>0000005554</td>\n",
       "      <td>0000000348                                    ...</td>\n",
       "      <td>False</td>\n",
       "    </tr>\n",
       "    <tr>\n",
       "      <th>197624</th>\n",
       "      <td>TRAM2</td>\n",
       "      <td>R469</td>\n",
       "      <td>00-05-01</td>\n",
       "      <td>RIT-ROOSEVELT</td>\n",
       "      <td>R</td>\n",
       "      <td>Roosevelt Island Tram</td>\n",
       "      <td>08/31/2018</td>\n",
       "      <td>21:00:00</td>\n",
       "      <td>REGULAR</td>\n",
       "      <td>0000005554</td>\n",
       "      <td>0000000348                                    ...</td>\n",
       "      <td>False</td>\n",
       "    </tr>\n",
       "  </tbody>\n",
       "</table>\n",
       "<p>197625 rows × 12 columns</p>\n",
       "</div>"
      ],
      "text/plain": [
       "          C/A  UNIT       SCP        STATION LINENAME  \\\n",
       "0        A002  R051  02-00-00          59 ST  NQR456W   \n",
       "1        A002  R051  02-00-00          59 ST  NQR456W   \n",
       "2        A002  R051  02-00-00          59 ST  NQR456W   \n",
       "3        A002  R051  02-00-00          59 ST  NQR456W   \n",
       "4        A002  R051  02-00-00          59 ST  NQR456W   \n",
       "...       ...   ...       ...            ...      ...   \n",
       "197620  TRAM2  R469  00-05-01  RIT-ROOSEVELT        R   \n",
       "197621  TRAM2  R469  00-05-01  RIT-ROOSEVELT        R   \n",
       "197622  TRAM2  R469  00-05-01  RIT-ROOSEVELT        R   \n",
       "197623  TRAM2  R469  00-05-01  RIT-ROOSEVELT        R   \n",
       "197624  TRAM2  R469  00-05-01  RIT-ROOSEVELT        R   \n",
       "\n",
       "                                      DIVISION        DATE      TIME     DESC  \\\n",
       "0       Brooklyn–Manhattan Transit Corporation  08/25/2018  00:00:00  REGULAR   \n",
       "1       Brooklyn–Manhattan Transit Corporation  08/25/2018  04:00:00  REGULAR   \n",
       "2       Brooklyn–Manhattan Transit Corporation  08/25/2018  08:00:00  REGULAR   \n",
       "3       Brooklyn–Manhattan Transit Corporation  08/25/2018  12:00:00  REGULAR   \n",
       "4       Brooklyn–Manhattan Transit Corporation  08/25/2018  16:00:00  REGULAR   \n",
       "...                                        ...         ...       ...      ...   \n",
       "197620                   Roosevelt Island Tram  08/31/2018  05:00:00  REGULAR   \n",
       "197621                   Roosevelt Island Tram  08/31/2018  09:00:00  REGULAR   \n",
       "197622                   Roosevelt Island Tram  08/31/2018  13:00:00  REGULAR   \n",
       "197623                   Roosevelt Island Tram  08/31/2018  17:00:00  REGULAR   \n",
       "197624                   Roosevelt Island Tram  08/31/2018  21:00:00  REGULAR   \n",
       "\n",
       "           ENTRIES  \\\n",
       "0       0006736067   \n",
       "1       0006736087   \n",
       "2       0006736105   \n",
       "3       0006736180   \n",
       "4       0006736349   \n",
       "...            ...   \n",
       "197620  0000005554   \n",
       "197621  0000005554   \n",
       "197622  0000005554   \n",
       "197623  0000005554   \n",
       "197624  0000005554   \n",
       "\n",
       "       EXITS                                                                 \\\n",
       "0       0002283184                                    ...                     \n",
       "1       0002283188                                    ...                     \n",
       "2       0002283229                                    ...                     \n",
       "3       0002283314                                    ...                     \n",
       "4       0002283384                                    ...                     \n",
       "...                                                   ...                     \n",
       "197620  0000000348                                    ...                     \n",
       "197621  0000000348                                    ...                     \n",
       "197622  0000000348                                    ...                     \n",
       "197623  0000000348                                    ...                     \n",
       "197624  0000000348                                    ...                     \n",
       "\n",
       "        On_N_Line  \n",
       "0            True  \n",
       "1            True  \n",
       "2            True  \n",
       "3            True  \n",
       "4            True  \n",
       "...           ...  \n",
       "197620      False  \n",
       "197621      False  \n",
       "197622      False  \n",
       "197623      False  \n",
       "197624      False  \n",
       "\n",
       "[197625 rows x 12 columns]"
      ]
     },
     "execution_count": 12,
     "metadata": {},
     "output_type": "execute_result"
    }
   ],
   "source": [
    "df['On_N_Line'] = df['LINENAME'].map(contains_n)\n",
    "df"
   ]
  },
  {
   "cell_type": "code",
   "execution_count": 13,
   "metadata": {},
   "outputs": [
    {
     "data": {
      "text/plain": [
       "False    0.870441\n",
       "True     0.129559\n",
       "Name: On_N_Line, dtype: float64"
      ]
     },
     "execution_count": 13,
     "metadata": {},
     "output_type": "execute_result"
    }
   ],
   "source": [
    "df['On_N_Line'].value_counts(normalize=True)"
   ]
  },
  {
   "cell_type": "markdown",
   "metadata": {},
   "source": [
    "#### Functions + `.map()` Explanation\n",
    "\n",
    "Above we used the `.map()` method for Pandas series ([documentation here](https://pandas.pydata.org/docs/reference/api/pandas.Series.map.html)). This allows us to pass a function that will be applied to each and every data entry within the series. This line of Python code:\n",
    "\n",
    "```python\n",
    "df['On_N_Line'] = df['LINENAME'].map(contains_n)\n",
    "```\n",
    "\n",
    "Is essentially the equivalent of this:\n",
    "\n",
    "```python\n",
    "# Create an empty list\n",
    "on_n_line = []\n",
    "# Loop over every row in the dataframe\n",
    "for _, row in df.iterrows():\n",
    "    # Call the function to see if LINENAME contains N\n",
    "    row_contains_n = contains_n(row['LINENAME'])\n",
    "    # Append this result to a list\n",
    "    on_n_line.append(row_contains_n)\n",
    "# Add this list to the dataframe as a new column\n",
    "df['On_N_Line'] = on_n_line\n",
    "```\n",
    "\n",
    "Note that the above snippet is much more complicated than the `.map()` syntax AND the code would run more slowly because it is less efficient. **If you ever find yourself trying to write a `for` loop that loops over all rows in a DataFrame, you are probably doing it wrong.**\n",
    "\n",
    "As shorthand, since this function is only one line we could also pass a lambda function to determine whether or not each row was on the N line or not, rather than declaring a separate function: \n",
    "\n",
    "```python\n",
    "df['On_N_Line'] = df['LINENAME'].map(lambda x: 'N' in x)\n",
    "```\n",
    "\n",
    "This is shorter and equivalent to the functions defined above. Lambda functions are often more convenient, but have less functionality than defining functions explicitly.\n",
    "\n",
    "### Vectorized Pandas Logic for N Line\n",
    "\n",
    "**Even better than using `.map()` with a custom function is using one of the highly efficient methods built into pandas**. These will exist for most common tasks, and checking whether a string contains another string is no exception. The best way to make the `On_N_Line` column is actually using `pandas.Series.str.contains` ([documentation here](https://pandas.pydata.org/docs/reference/api/pandas.Series.str.contains.html)):\n",
    "\n",
    "```python\n",
    "df['On_N_Line'] = df['LINENAME'].str.contains('N', regex=False)\n",
    "```\n",
    "\n",
    "Sometimes, like with this example, the naming is slightly different between base Python and pandas. In base Python we ask whether one string is `in` another, whereas in pandas we ask whether one `.contains` another. Try browsing the available methods on the left side menu of the pandas documentation to find what you're looking for in cases like this.\n",
    "\n",
    "Whether you use `.map()` or `.str.contains()` will matter more as the dataframe size increases. If you are working with a relatively small dataframe, you may have an easier time if you focus on figuring out something that *works* rather than worrying too much about finding the optimal technique."
   ]
  },
  {
   "cell_type": "markdown",
   "metadata": {},
   "source": [
    "## Transforming Columns\n",
    "\n",
    "### Cleaning Column Names\n",
    "\n",
    "Sometimes, you have messy column names. Let's look at what we currently have:"
   ]
  },
  {
   "cell_type": "code",
   "execution_count": 14,
   "metadata": {},
   "outputs": [
    {
     "data": {
      "text/plain": [
       "Index(['C/A', 'UNIT', 'SCP', 'STATION', 'LINENAME', 'DIVISION', 'DATE', 'TIME',\n",
       "       'DESC', 'ENTRIES',\n",
       "       'EXITS                                                               ',\n",
       "       'On_N_Line'],\n",
       "      dtype='object')"
      ]
     },
     "execution_count": 14,
     "metadata": {},
     "output_type": "execute_result"
    }
   ],
   "source": [
    "df.columns"
   ]
  },
  {
   "cell_type": "markdown",
   "metadata": {},
   "source": [
    "You might notice that the `EXITS` column has a lot of annoying whitespace following it.\n",
    "\n",
    "We can quickly use a list comprehension to clean up all of the column names."
   ]
  },
  {
   "cell_type": "code",
   "execution_count": 15,
   "metadata": {},
   "outputs": [
    {
     "data": {
      "text/plain": [
       "['C/A',\n",
       " 'UNIT',\n",
       " 'SCP',\n",
       " 'STATION',\n",
       " 'LINENAME',\n",
       " 'DIVISION',\n",
       " 'DATE',\n",
       " 'TIME',\n",
       " 'DESC',\n",
       " 'ENTRIES',\n",
       " 'EXITS',\n",
       " 'On_N_Line']"
      ]
     },
     "execution_count": 15,
     "metadata": {},
     "output_type": "execute_result"
    }
   ],
   "source": [
    "[col.strip() for col in df.columns]"
   ]
  },
  {
   "cell_type": "markdown",
   "metadata": {},
   "source": [
    "Because there are relatively few column names, a list comprehension like that is usually sufficient. However you can use similar techniques to the ones described above if you need to:"
   ]
  },
  {
   "cell_type": "code",
   "execution_count": 16,
   "metadata": {},
   "outputs": [
    {
     "data": {
      "text/plain": [
       "Index(['C/A', 'UNIT', 'SCP', 'STATION', 'LINENAME', 'DIVISION', 'DATE', 'TIME',\n",
       "       'DESC', 'ENTRIES', 'EXITS', 'On_N_Line'],\n",
       "      dtype='object')"
      ]
     },
     "execution_count": 16,
     "metadata": {},
     "output_type": "execute_result"
    }
   ],
   "source": [
    "df.columns.str.strip()"
   ]
  },
  {
   "cell_type": "code",
   "execution_count": 17,
   "metadata": {},
   "outputs": [
    {
     "data": {
      "text/plain": [
       "Index(['C/A', 'UNIT', 'SCP', 'STATION', 'LINENAME', 'DIVISION', 'DATE', 'TIME',\n",
       "       'DESC', 'ENTRIES', 'EXITS', 'On_N_Line'],\n",
       "      dtype='object')"
      ]
     },
     "execution_count": 17,
     "metadata": {},
     "output_type": "execute_result"
    }
   ],
   "source": [
    "df.columns.map(lambda col: col.strip())"
   ]
  },
  {
   "cell_type": "markdown",
   "metadata": {},
   "source": [
    "Note that none of these have actually modified the columns so far:"
   ]
  },
  {
   "cell_type": "code",
   "execution_count": 18,
   "metadata": {},
   "outputs": [
    {
     "data": {
      "text/plain": [
       "Index(['C/A', 'UNIT', 'SCP', 'STATION', 'LINENAME', 'DIVISION', 'DATE', 'TIME',\n",
       "       'DESC', 'ENTRIES',\n",
       "       'EXITS                                                               ',\n",
       "       'On_N_Line'],\n",
       "      dtype='object')"
      ]
     },
     "execution_count": 18,
     "metadata": {},
     "output_type": "execute_result"
    }
   ],
   "source": [
    "df.columns"
   ]
  },
  {
   "cell_type": "markdown",
   "metadata": {},
   "source": [
    "We need to reassign `df.columns` for this to happen:"
   ]
  },
  {
   "cell_type": "code",
   "execution_count": 19,
   "metadata": {},
   "outputs": [
    {
     "data": {
      "text/plain": [
       "Index(['C/A', 'UNIT', 'SCP', 'STATION', 'LINENAME', 'DIVISION', 'DATE', 'TIME',\n",
       "       'DESC', 'ENTRIES', 'EXITS', 'On_N_Line'],\n",
       "      dtype='object')"
      ]
     },
     "execution_count": 19,
     "metadata": {},
     "output_type": "execute_result"
    }
   ],
   "source": [
    "# Even though this is assigning a list of strings, it\n",
    "# will be cast to an Index automatically\n",
    "df.columns = [col.strip() for col in df.columns]\n",
    "df.columns"
   ]
  },
  {
   "cell_type": "markdown",
   "metadata": {},
   "source": [
    "### Renaming Columns\n",
    "\n",
    "You can also rename columns using dictionaries. Unlike `.map()`, which will replace values with NaN if they do not have an associated key in the dictionary, `.rename()` will only replace values that appear in the dictionary. This is useful if you only want to replace some values.\n",
    "\n",
    "Let's say we want to rename `C/A` to `CONTROL_AREA` (the data dictionary indicates that this is what it stands for)."
   ]
  },
  {
   "cell_type": "code",
   "execution_count": 20,
   "metadata": {},
   "outputs": [
    {
     "data": {
      "text/html": [
       "<div>\n",
       "<style scoped>\n",
       "    .dataframe tbody tr th:only-of-type {\n",
       "        vertical-align: middle;\n",
       "    }\n",
       "\n",
       "    .dataframe tbody tr th {\n",
       "        vertical-align: top;\n",
       "    }\n",
       "\n",
       "    .dataframe thead th {\n",
       "        text-align: right;\n",
       "    }\n",
       "</style>\n",
       "<table border=\"1\" class=\"dataframe\">\n",
       "  <thead>\n",
       "    <tr style=\"text-align: right;\">\n",
       "      <th></th>\n",
       "      <th>CONTROL_AREA</th>\n",
       "      <th>UNIT</th>\n",
       "      <th>SCP</th>\n",
       "      <th>STATION</th>\n",
       "      <th>LINENAME</th>\n",
       "      <th>DIVISION</th>\n",
       "      <th>DATE</th>\n",
       "      <th>TIME</th>\n",
       "      <th>DESC</th>\n",
       "      <th>ENTRIES</th>\n",
       "      <th>EXITS</th>\n",
       "      <th>On_N_Line</th>\n",
       "    </tr>\n",
       "  </thead>\n",
       "  <tbody>\n",
       "    <tr>\n",
       "      <th>0</th>\n",
       "      <td>A002</td>\n",
       "      <td>R051</td>\n",
       "      <td>02-00-00</td>\n",
       "      <td>59 ST</td>\n",
       "      <td>NQR456W</td>\n",
       "      <td>Brooklyn–Manhattan Transit Corporation</td>\n",
       "      <td>08/25/2018</td>\n",
       "      <td>00:00:00</td>\n",
       "      <td>REGULAR</td>\n",
       "      <td>0006736067</td>\n",
       "      <td>0002283184                                    ...</td>\n",
       "      <td>True</td>\n",
       "    </tr>\n",
       "    <tr>\n",
       "      <th>1</th>\n",
       "      <td>A002</td>\n",
       "      <td>R051</td>\n",
       "      <td>02-00-00</td>\n",
       "      <td>59 ST</td>\n",
       "      <td>NQR456W</td>\n",
       "      <td>Brooklyn–Manhattan Transit Corporation</td>\n",
       "      <td>08/25/2018</td>\n",
       "      <td>04:00:00</td>\n",
       "      <td>REGULAR</td>\n",
       "      <td>0006736087</td>\n",
       "      <td>0002283188                                    ...</td>\n",
       "      <td>True</td>\n",
       "    </tr>\n",
       "    <tr>\n",
       "      <th>2</th>\n",
       "      <td>A002</td>\n",
       "      <td>R051</td>\n",
       "      <td>02-00-00</td>\n",
       "      <td>59 ST</td>\n",
       "      <td>NQR456W</td>\n",
       "      <td>Brooklyn–Manhattan Transit Corporation</td>\n",
       "      <td>08/25/2018</td>\n",
       "      <td>08:00:00</td>\n",
       "      <td>REGULAR</td>\n",
       "      <td>0006736105</td>\n",
       "      <td>0002283229                                    ...</td>\n",
       "      <td>True</td>\n",
       "    </tr>\n",
       "    <tr>\n",
       "      <th>3</th>\n",
       "      <td>A002</td>\n",
       "      <td>R051</td>\n",
       "      <td>02-00-00</td>\n",
       "      <td>59 ST</td>\n",
       "      <td>NQR456W</td>\n",
       "      <td>Brooklyn–Manhattan Transit Corporation</td>\n",
       "      <td>08/25/2018</td>\n",
       "      <td>12:00:00</td>\n",
       "      <td>REGULAR</td>\n",
       "      <td>0006736180</td>\n",
       "      <td>0002283314                                    ...</td>\n",
       "      <td>True</td>\n",
       "    </tr>\n",
       "    <tr>\n",
       "      <th>4</th>\n",
       "      <td>A002</td>\n",
       "      <td>R051</td>\n",
       "      <td>02-00-00</td>\n",
       "      <td>59 ST</td>\n",
       "      <td>NQR456W</td>\n",
       "      <td>Brooklyn–Manhattan Transit Corporation</td>\n",
       "      <td>08/25/2018</td>\n",
       "      <td>16:00:00</td>\n",
       "      <td>REGULAR</td>\n",
       "      <td>0006736349</td>\n",
       "      <td>0002283384                                    ...</td>\n",
       "      <td>True</td>\n",
       "    </tr>\n",
       "    <tr>\n",
       "      <th>...</th>\n",
       "      <td>...</td>\n",
       "      <td>...</td>\n",
       "      <td>...</td>\n",
       "      <td>...</td>\n",
       "      <td>...</td>\n",
       "      <td>...</td>\n",
       "      <td>...</td>\n",
       "      <td>...</td>\n",
       "      <td>...</td>\n",
       "      <td>...</td>\n",
       "      <td>...</td>\n",
       "      <td>...</td>\n",
       "    </tr>\n",
       "    <tr>\n",
       "      <th>197620</th>\n",
       "      <td>TRAM2</td>\n",
       "      <td>R469</td>\n",
       "      <td>00-05-01</td>\n",
       "      <td>RIT-ROOSEVELT</td>\n",
       "      <td>R</td>\n",
       "      <td>Roosevelt Island Tram</td>\n",
       "      <td>08/31/2018</td>\n",
       "      <td>05:00:00</td>\n",
       "      <td>REGULAR</td>\n",
       "      <td>0000005554</td>\n",
       "      <td>0000000348                                    ...</td>\n",
       "      <td>False</td>\n",
       "    </tr>\n",
       "    <tr>\n",
       "      <th>197621</th>\n",
       "      <td>TRAM2</td>\n",
       "      <td>R469</td>\n",
       "      <td>00-05-01</td>\n",
       "      <td>RIT-ROOSEVELT</td>\n",
       "      <td>R</td>\n",
       "      <td>Roosevelt Island Tram</td>\n",
       "      <td>08/31/2018</td>\n",
       "      <td>09:00:00</td>\n",
       "      <td>REGULAR</td>\n",
       "      <td>0000005554</td>\n",
       "      <td>0000000348                                    ...</td>\n",
       "      <td>False</td>\n",
       "    </tr>\n",
       "    <tr>\n",
       "      <th>197622</th>\n",
       "      <td>TRAM2</td>\n",
       "      <td>R469</td>\n",
       "      <td>00-05-01</td>\n",
       "      <td>RIT-ROOSEVELT</td>\n",
       "      <td>R</td>\n",
       "      <td>Roosevelt Island Tram</td>\n",
       "      <td>08/31/2018</td>\n",
       "      <td>13:00:00</td>\n",
       "      <td>REGULAR</td>\n",
       "      <td>0000005554</td>\n",
       "      <td>0000000348                                    ...</td>\n",
       "      <td>False</td>\n",
       "    </tr>\n",
       "    <tr>\n",
       "      <th>197623</th>\n",
       "      <td>TRAM2</td>\n",
       "      <td>R469</td>\n",
       "      <td>00-05-01</td>\n",
       "      <td>RIT-ROOSEVELT</td>\n",
       "      <td>R</td>\n",
       "      <td>Roosevelt Island Tram</td>\n",
       "      <td>08/31/2018</td>\n",
       "      <td>17:00:00</td>\n",
       "      <td>REGULAR</td>\n",
       "      <td>0000005554</td>\n",
       "      <td>0000000348                                    ...</td>\n",
       "      <td>False</td>\n",
       "    </tr>\n",
       "    <tr>\n",
       "      <th>197624</th>\n",
       "      <td>TRAM2</td>\n",
       "      <td>R469</td>\n",
       "      <td>00-05-01</td>\n",
       "      <td>RIT-ROOSEVELT</td>\n",
       "      <td>R</td>\n",
       "      <td>Roosevelt Island Tram</td>\n",
       "      <td>08/31/2018</td>\n",
       "      <td>21:00:00</td>\n",
       "      <td>REGULAR</td>\n",
       "      <td>0000005554</td>\n",
       "      <td>0000000348                                    ...</td>\n",
       "      <td>False</td>\n",
       "    </tr>\n",
       "  </tbody>\n",
       "</table>\n",
       "<p>197625 rows × 12 columns</p>\n",
       "</div>"
      ],
      "text/plain": [
       "       CONTROL_AREA  UNIT       SCP        STATION LINENAME  \\\n",
       "0              A002  R051  02-00-00          59 ST  NQR456W   \n",
       "1              A002  R051  02-00-00          59 ST  NQR456W   \n",
       "2              A002  R051  02-00-00          59 ST  NQR456W   \n",
       "3              A002  R051  02-00-00          59 ST  NQR456W   \n",
       "4              A002  R051  02-00-00          59 ST  NQR456W   \n",
       "...             ...   ...       ...            ...      ...   \n",
       "197620        TRAM2  R469  00-05-01  RIT-ROOSEVELT        R   \n",
       "197621        TRAM2  R469  00-05-01  RIT-ROOSEVELT        R   \n",
       "197622        TRAM2  R469  00-05-01  RIT-ROOSEVELT        R   \n",
       "197623        TRAM2  R469  00-05-01  RIT-ROOSEVELT        R   \n",
       "197624        TRAM2  R469  00-05-01  RIT-ROOSEVELT        R   \n",
       "\n",
       "                                      DIVISION        DATE      TIME     DESC  \\\n",
       "0       Brooklyn–Manhattan Transit Corporation  08/25/2018  00:00:00  REGULAR   \n",
       "1       Brooklyn–Manhattan Transit Corporation  08/25/2018  04:00:00  REGULAR   \n",
       "2       Brooklyn–Manhattan Transit Corporation  08/25/2018  08:00:00  REGULAR   \n",
       "3       Brooklyn–Manhattan Transit Corporation  08/25/2018  12:00:00  REGULAR   \n",
       "4       Brooklyn–Manhattan Transit Corporation  08/25/2018  16:00:00  REGULAR   \n",
       "...                                        ...         ...       ...      ...   \n",
       "197620                   Roosevelt Island Tram  08/31/2018  05:00:00  REGULAR   \n",
       "197621                   Roosevelt Island Tram  08/31/2018  09:00:00  REGULAR   \n",
       "197622                   Roosevelt Island Tram  08/31/2018  13:00:00  REGULAR   \n",
       "197623                   Roosevelt Island Tram  08/31/2018  17:00:00  REGULAR   \n",
       "197624                   Roosevelt Island Tram  08/31/2018  21:00:00  REGULAR   \n",
       "\n",
       "           ENTRIES                                              EXITS  \\\n",
       "0       0006736067  0002283184                                    ...   \n",
       "1       0006736087  0002283188                                    ...   \n",
       "2       0006736105  0002283229                                    ...   \n",
       "3       0006736180  0002283314                                    ...   \n",
       "4       0006736349  0002283384                                    ...   \n",
       "...            ...                                                ...   \n",
       "197620  0000005554  0000000348                                    ...   \n",
       "197621  0000005554  0000000348                                    ...   \n",
       "197622  0000005554  0000000348                                    ...   \n",
       "197623  0000005554  0000000348                                    ...   \n",
       "197624  0000005554  0000000348                                    ...   \n",
       "\n",
       "        On_N_Line  \n",
       "0            True  \n",
       "1            True  \n",
       "2            True  \n",
       "3            True  \n",
       "4            True  \n",
       "...           ...  \n",
       "197620      False  \n",
       "197621      False  \n",
       "197622      False  \n",
       "197623      False  \n",
       "197624      False  \n",
       "\n",
       "[197625 rows x 12 columns]"
      ]
     },
     "execution_count": 20,
     "metadata": {},
     "output_type": "execute_result"
    }
   ],
   "source": [
    "df.rename(columns={'C/A' : 'CONTROL_AREA'})"
   ]
  },
  {
   "cell_type": "markdown",
   "metadata": {},
   "source": [
    "Again, note that the dataframe was not automatically transformed by doing this. If we look at it now, `C/A` is still there:"
   ]
  },
  {
   "cell_type": "code",
   "execution_count": 21,
   "metadata": {},
   "outputs": [
    {
     "data": {
      "text/html": [
       "<div>\n",
       "<style scoped>\n",
       "    .dataframe tbody tr th:only-of-type {\n",
       "        vertical-align: middle;\n",
       "    }\n",
       "\n",
       "    .dataframe tbody tr th {\n",
       "        vertical-align: top;\n",
       "    }\n",
       "\n",
       "    .dataframe thead th {\n",
       "        text-align: right;\n",
       "    }\n",
       "</style>\n",
       "<table border=\"1\" class=\"dataframe\">\n",
       "  <thead>\n",
       "    <tr style=\"text-align: right;\">\n",
       "      <th></th>\n",
       "      <th>C/A</th>\n",
       "      <th>UNIT</th>\n",
       "      <th>SCP</th>\n",
       "      <th>STATION</th>\n",
       "      <th>LINENAME</th>\n",
       "      <th>DIVISION</th>\n",
       "      <th>DATE</th>\n",
       "      <th>TIME</th>\n",
       "      <th>DESC</th>\n",
       "      <th>ENTRIES</th>\n",
       "      <th>EXITS</th>\n",
       "      <th>On_N_Line</th>\n",
       "    </tr>\n",
       "  </thead>\n",
       "  <tbody>\n",
       "    <tr>\n",
       "      <th>0</th>\n",
       "      <td>A002</td>\n",
       "      <td>R051</td>\n",
       "      <td>02-00-00</td>\n",
       "      <td>59 ST</td>\n",
       "      <td>NQR456W</td>\n",
       "      <td>Brooklyn–Manhattan Transit Corporation</td>\n",
       "      <td>08/25/2018</td>\n",
       "      <td>00:00:00</td>\n",
       "      <td>REGULAR</td>\n",
       "      <td>0006736067</td>\n",
       "      <td>0002283184                                    ...</td>\n",
       "      <td>True</td>\n",
       "    </tr>\n",
       "    <tr>\n",
       "      <th>1</th>\n",
       "      <td>A002</td>\n",
       "      <td>R051</td>\n",
       "      <td>02-00-00</td>\n",
       "      <td>59 ST</td>\n",
       "      <td>NQR456W</td>\n",
       "      <td>Brooklyn–Manhattan Transit Corporation</td>\n",
       "      <td>08/25/2018</td>\n",
       "      <td>04:00:00</td>\n",
       "      <td>REGULAR</td>\n",
       "      <td>0006736087</td>\n",
       "      <td>0002283188                                    ...</td>\n",
       "      <td>True</td>\n",
       "    </tr>\n",
       "    <tr>\n",
       "      <th>2</th>\n",
       "      <td>A002</td>\n",
       "      <td>R051</td>\n",
       "      <td>02-00-00</td>\n",
       "      <td>59 ST</td>\n",
       "      <td>NQR456W</td>\n",
       "      <td>Brooklyn–Manhattan Transit Corporation</td>\n",
       "      <td>08/25/2018</td>\n",
       "      <td>08:00:00</td>\n",
       "      <td>REGULAR</td>\n",
       "      <td>0006736105</td>\n",
       "      <td>0002283229                                    ...</td>\n",
       "      <td>True</td>\n",
       "    </tr>\n",
       "    <tr>\n",
       "      <th>3</th>\n",
       "      <td>A002</td>\n",
       "      <td>R051</td>\n",
       "      <td>02-00-00</td>\n",
       "      <td>59 ST</td>\n",
       "      <td>NQR456W</td>\n",
       "      <td>Brooklyn–Manhattan Transit Corporation</td>\n",
       "      <td>08/25/2018</td>\n",
       "      <td>12:00:00</td>\n",
       "      <td>REGULAR</td>\n",
       "      <td>0006736180</td>\n",
       "      <td>0002283314                                    ...</td>\n",
       "      <td>True</td>\n",
       "    </tr>\n",
       "    <tr>\n",
       "      <th>4</th>\n",
       "      <td>A002</td>\n",
       "      <td>R051</td>\n",
       "      <td>02-00-00</td>\n",
       "      <td>59 ST</td>\n",
       "      <td>NQR456W</td>\n",
       "      <td>Brooklyn–Manhattan Transit Corporation</td>\n",
       "      <td>08/25/2018</td>\n",
       "      <td>16:00:00</td>\n",
       "      <td>REGULAR</td>\n",
       "      <td>0006736349</td>\n",
       "      <td>0002283384                                    ...</td>\n",
       "      <td>True</td>\n",
       "    </tr>\n",
       "    <tr>\n",
       "      <th>...</th>\n",
       "      <td>...</td>\n",
       "      <td>...</td>\n",
       "      <td>...</td>\n",
       "      <td>...</td>\n",
       "      <td>...</td>\n",
       "      <td>...</td>\n",
       "      <td>...</td>\n",
       "      <td>...</td>\n",
       "      <td>...</td>\n",
       "      <td>...</td>\n",
       "      <td>...</td>\n",
       "      <td>...</td>\n",
       "    </tr>\n",
       "    <tr>\n",
       "      <th>197620</th>\n",
       "      <td>TRAM2</td>\n",
       "      <td>R469</td>\n",
       "      <td>00-05-01</td>\n",
       "      <td>RIT-ROOSEVELT</td>\n",
       "      <td>R</td>\n",
       "      <td>Roosevelt Island Tram</td>\n",
       "      <td>08/31/2018</td>\n",
       "      <td>05:00:00</td>\n",
       "      <td>REGULAR</td>\n",
       "      <td>0000005554</td>\n",
       "      <td>0000000348                                    ...</td>\n",
       "      <td>False</td>\n",
       "    </tr>\n",
       "    <tr>\n",
       "      <th>197621</th>\n",
       "      <td>TRAM2</td>\n",
       "      <td>R469</td>\n",
       "      <td>00-05-01</td>\n",
       "      <td>RIT-ROOSEVELT</td>\n",
       "      <td>R</td>\n",
       "      <td>Roosevelt Island Tram</td>\n",
       "      <td>08/31/2018</td>\n",
       "      <td>09:00:00</td>\n",
       "      <td>REGULAR</td>\n",
       "      <td>0000005554</td>\n",
       "      <td>0000000348                                    ...</td>\n",
       "      <td>False</td>\n",
       "    </tr>\n",
       "    <tr>\n",
       "      <th>197622</th>\n",
       "      <td>TRAM2</td>\n",
       "      <td>R469</td>\n",
       "      <td>00-05-01</td>\n",
       "      <td>RIT-ROOSEVELT</td>\n",
       "      <td>R</td>\n",
       "      <td>Roosevelt Island Tram</td>\n",
       "      <td>08/31/2018</td>\n",
       "      <td>13:00:00</td>\n",
       "      <td>REGULAR</td>\n",
       "      <td>0000005554</td>\n",
       "      <td>0000000348                                    ...</td>\n",
       "      <td>False</td>\n",
       "    </tr>\n",
       "    <tr>\n",
       "      <th>197623</th>\n",
       "      <td>TRAM2</td>\n",
       "      <td>R469</td>\n",
       "      <td>00-05-01</td>\n",
       "      <td>RIT-ROOSEVELT</td>\n",
       "      <td>R</td>\n",
       "      <td>Roosevelt Island Tram</td>\n",
       "      <td>08/31/2018</td>\n",
       "      <td>17:00:00</td>\n",
       "      <td>REGULAR</td>\n",
       "      <td>0000005554</td>\n",
       "      <td>0000000348                                    ...</td>\n",
       "      <td>False</td>\n",
       "    </tr>\n",
       "    <tr>\n",
       "      <th>197624</th>\n",
       "      <td>TRAM2</td>\n",
       "      <td>R469</td>\n",
       "      <td>00-05-01</td>\n",
       "      <td>RIT-ROOSEVELT</td>\n",
       "      <td>R</td>\n",
       "      <td>Roosevelt Island Tram</td>\n",
       "      <td>08/31/2018</td>\n",
       "      <td>21:00:00</td>\n",
       "      <td>REGULAR</td>\n",
       "      <td>0000005554</td>\n",
       "      <td>0000000348                                    ...</td>\n",
       "      <td>False</td>\n",
       "    </tr>\n",
       "  </tbody>\n",
       "</table>\n",
       "<p>197625 rows × 12 columns</p>\n",
       "</div>"
      ],
      "text/plain": [
       "          C/A  UNIT       SCP        STATION LINENAME  \\\n",
       "0        A002  R051  02-00-00          59 ST  NQR456W   \n",
       "1        A002  R051  02-00-00          59 ST  NQR456W   \n",
       "2        A002  R051  02-00-00          59 ST  NQR456W   \n",
       "3        A002  R051  02-00-00          59 ST  NQR456W   \n",
       "4        A002  R051  02-00-00          59 ST  NQR456W   \n",
       "...       ...   ...       ...            ...      ...   \n",
       "197620  TRAM2  R469  00-05-01  RIT-ROOSEVELT        R   \n",
       "197621  TRAM2  R469  00-05-01  RIT-ROOSEVELT        R   \n",
       "197622  TRAM2  R469  00-05-01  RIT-ROOSEVELT        R   \n",
       "197623  TRAM2  R469  00-05-01  RIT-ROOSEVELT        R   \n",
       "197624  TRAM2  R469  00-05-01  RIT-ROOSEVELT        R   \n",
       "\n",
       "                                      DIVISION        DATE      TIME     DESC  \\\n",
       "0       Brooklyn–Manhattan Transit Corporation  08/25/2018  00:00:00  REGULAR   \n",
       "1       Brooklyn–Manhattan Transit Corporation  08/25/2018  04:00:00  REGULAR   \n",
       "2       Brooklyn–Manhattan Transit Corporation  08/25/2018  08:00:00  REGULAR   \n",
       "3       Brooklyn–Manhattan Transit Corporation  08/25/2018  12:00:00  REGULAR   \n",
       "4       Brooklyn–Manhattan Transit Corporation  08/25/2018  16:00:00  REGULAR   \n",
       "...                                        ...         ...       ...      ...   \n",
       "197620                   Roosevelt Island Tram  08/31/2018  05:00:00  REGULAR   \n",
       "197621                   Roosevelt Island Tram  08/31/2018  09:00:00  REGULAR   \n",
       "197622                   Roosevelt Island Tram  08/31/2018  13:00:00  REGULAR   \n",
       "197623                   Roosevelt Island Tram  08/31/2018  17:00:00  REGULAR   \n",
       "197624                   Roosevelt Island Tram  08/31/2018  21:00:00  REGULAR   \n",
       "\n",
       "           ENTRIES                                              EXITS  \\\n",
       "0       0006736067  0002283184                                    ...   \n",
       "1       0006736087  0002283188                                    ...   \n",
       "2       0006736105  0002283229                                    ...   \n",
       "3       0006736180  0002283314                                    ...   \n",
       "4       0006736349  0002283384                                    ...   \n",
       "...            ...                                                ...   \n",
       "197620  0000005554  0000000348                                    ...   \n",
       "197621  0000005554  0000000348                                    ...   \n",
       "197622  0000005554  0000000348                                    ...   \n",
       "197623  0000005554  0000000348                                    ...   \n",
       "197624  0000005554  0000000348                                    ...   \n",
       "\n",
       "        On_N_Line  \n",
       "0            True  \n",
       "1            True  \n",
       "2            True  \n",
       "3            True  \n",
       "4            True  \n",
       "...           ...  \n",
       "197620      False  \n",
       "197621      False  \n",
       "197622      False  \n",
       "197623      False  \n",
       "197624      False  \n",
       "\n",
       "[197625 rows x 12 columns]"
      ]
     },
     "execution_count": 21,
     "metadata": {},
     "output_type": "execute_result"
    }
   ],
   "source": [
    "df"
   ]
  },
  {
   "cell_type": "markdown",
   "metadata": {},
   "source": [
    "If we want the change to \"stick\", one way to do that is to use `inplace=True`:"
   ]
  },
  {
   "cell_type": "code",
   "execution_count": 22,
   "metadata": {},
   "outputs": [],
   "source": [
    "df.rename(columns={'C/A' : 'CONTROL_AREA'}, inplace=True)"
   ]
  },
  {
   "cell_type": "markdown",
   "metadata": {},
   "source": [
    "Now the value has actually been changed:"
   ]
  },
  {
   "cell_type": "code",
   "execution_count": 23,
   "metadata": {},
   "outputs": [
    {
     "data": {
      "text/html": [
       "<div>\n",
       "<style scoped>\n",
       "    .dataframe tbody tr th:only-of-type {\n",
       "        vertical-align: middle;\n",
       "    }\n",
       "\n",
       "    .dataframe tbody tr th {\n",
       "        vertical-align: top;\n",
       "    }\n",
       "\n",
       "    .dataframe thead th {\n",
       "        text-align: right;\n",
       "    }\n",
       "</style>\n",
       "<table border=\"1\" class=\"dataframe\">\n",
       "  <thead>\n",
       "    <tr style=\"text-align: right;\">\n",
       "      <th></th>\n",
       "      <th>CONTROL_AREA</th>\n",
       "      <th>UNIT</th>\n",
       "      <th>SCP</th>\n",
       "      <th>STATION</th>\n",
       "      <th>LINENAME</th>\n",
       "      <th>DIVISION</th>\n",
       "      <th>DATE</th>\n",
       "      <th>TIME</th>\n",
       "      <th>DESC</th>\n",
       "      <th>ENTRIES</th>\n",
       "      <th>EXITS</th>\n",
       "      <th>On_N_Line</th>\n",
       "    </tr>\n",
       "  </thead>\n",
       "  <tbody>\n",
       "    <tr>\n",
       "      <th>0</th>\n",
       "      <td>A002</td>\n",
       "      <td>R051</td>\n",
       "      <td>02-00-00</td>\n",
       "      <td>59 ST</td>\n",
       "      <td>NQR456W</td>\n",
       "      <td>Brooklyn–Manhattan Transit Corporation</td>\n",
       "      <td>08/25/2018</td>\n",
       "      <td>00:00:00</td>\n",
       "      <td>REGULAR</td>\n",
       "      <td>0006736067</td>\n",
       "      <td>0002283184                                    ...</td>\n",
       "      <td>True</td>\n",
       "    </tr>\n",
       "    <tr>\n",
       "      <th>1</th>\n",
       "      <td>A002</td>\n",
       "      <td>R051</td>\n",
       "      <td>02-00-00</td>\n",
       "      <td>59 ST</td>\n",
       "      <td>NQR456W</td>\n",
       "      <td>Brooklyn–Manhattan Transit Corporation</td>\n",
       "      <td>08/25/2018</td>\n",
       "      <td>04:00:00</td>\n",
       "      <td>REGULAR</td>\n",
       "      <td>0006736087</td>\n",
       "      <td>0002283188                                    ...</td>\n",
       "      <td>True</td>\n",
       "    </tr>\n",
       "    <tr>\n",
       "      <th>2</th>\n",
       "      <td>A002</td>\n",
       "      <td>R051</td>\n",
       "      <td>02-00-00</td>\n",
       "      <td>59 ST</td>\n",
       "      <td>NQR456W</td>\n",
       "      <td>Brooklyn–Manhattan Transit Corporation</td>\n",
       "      <td>08/25/2018</td>\n",
       "      <td>08:00:00</td>\n",
       "      <td>REGULAR</td>\n",
       "      <td>0006736105</td>\n",
       "      <td>0002283229                                    ...</td>\n",
       "      <td>True</td>\n",
       "    </tr>\n",
       "    <tr>\n",
       "      <th>3</th>\n",
       "      <td>A002</td>\n",
       "      <td>R051</td>\n",
       "      <td>02-00-00</td>\n",
       "      <td>59 ST</td>\n",
       "      <td>NQR456W</td>\n",
       "      <td>Brooklyn–Manhattan Transit Corporation</td>\n",
       "      <td>08/25/2018</td>\n",
       "      <td>12:00:00</td>\n",
       "      <td>REGULAR</td>\n",
       "      <td>0006736180</td>\n",
       "      <td>0002283314                                    ...</td>\n",
       "      <td>True</td>\n",
       "    </tr>\n",
       "    <tr>\n",
       "      <th>4</th>\n",
       "      <td>A002</td>\n",
       "      <td>R051</td>\n",
       "      <td>02-00-00</td>\n",
       "      <td>59 ST</td>\n",
       "      <td>NQR456W</td>\n",
       "      <td>Brooklyn–Manhattan Transit Corporation</td>\n",
       "      <td>08/25/2018</td>\n",
       "      <td>16:00:00</td>\n",
       "      <td>REGULAR</td>\n",
       "      <td>0006736349</td>\n",
       "      <td>0002283384                                    ...</td>\n",
       "      <td>True</td>\n",
       "    </tr>\n",
       "    <tr>\n",
       "      <th>...</th>\n",
       "      <td>...</td>\n",
       "      <td>...</td>\n",
       "      <td>...</td>\n",
       "      <td>...</td>\n",
       "      <td>...</td>\n",
       "      <td>...</td>\n",
       "      <td>...</td>\n",
       "      <td>...</td>\n",
       "      <td>...</td>\n",
       "      <td>...</td>\n",
       "      <td>...</td>\n",
       "      <td>...</td>\n",
       "    </tr>\n",
       "    <tr>\n",
       "      <th>197620</th>\n",
       "      <td>TRAM2</td>\n",
       "      <td>R469</td>\n",
       "      <td>00-05-01</td>\n",
       "      <td>RIT-ROOSEVELT</td>\n",
       "      <td>R</td>\n",
       "      <td>Roosevelt Island Tram</td>\n",
       "      <td>08/31/2018</td>\n",
       "      <td>05:00:00</td>\n",
       "      <td>REGULAR</td>\n",
       "      <td>0000005554</td>\n",
       "      <td>0000000348                                    ...</td>\n",
       "      <td>False</td>\n",
       "    </tr>\n",
       "    <tr>\n",
       "      <th>197621</th>\n",
       "      <td>TRAM2</td>\n",
       "      <td>R469</td>\n",
       "      <td>00-05-01</td>\n",
       "      <td>RIT-ROOSEVELT</td>\n",
       "      <td>R</td>\n",
       "      <td>Roosevelt Island Tram</td>\n",
       "      <td>08/31/2018</td>\n",
       "      <td>09:00:00</td>\n",
       "      <td>REGULAR</td>\n",
       "      <td>0000005554</td>\n",
       "      <td>0000000348                                    ...</td>\n",
       "      <td>False</td>\n",
       "    </tr>\n",
       "    <tr>\n",
       "      <th>197622</th>\n",
       "      <td>TRAM2</td>\n",
       "      <td>R469</td>\n",
       "      <td>00-05-01</td>\n",
       "      <td>RIT-ROOSEVELT</td>\n",
       "      <td>R</td>\n",
       "      <td>Roosevelt Island Tram</td>\n",
       "      <td>08/31/2018</td>\n",
       "      <td>13:00:00</td>\n",
       "      <td>REGULAR</td>\n",
       "      <td>0000005554</td>\n",
       "      <td>0000000348                                    ...</td>\n",
       "      <td>False</td>\n",
       "    </tr>\n",
       "    <tr>\n",
       "      <th>197623</th>\n",
       "      <td>TRAM2</td>\n",
       "      <td>R469</td>\n",
       "      <td>00-05-01</td>\n",
       "      <td>RIT-ROOSEVELT</td>\n",
       "      <td>R</td>\n",
       "      <td>Roosevelt Island Tram</td>\n",
       "      <td>08/31/2018</td>\n",
       "      <td>17:00:00</td>\n",
       "      <td>REGULAR</td>\n",
       "      <td>0000005554</td>\n",
       "      <td>0000000348                                    ...</td>\n",
       "      <td>False</td>\n",
       "    </tr>\n",
       "    <tr>\n",
       "      <th>197624</th>\n",
       "      <td>TRAM2</td>\n",
       "      <td>R469</td>\n",
       "      <td>00-05-01</td>\n",
       "      <td>RIT-ROOSEVELT</td>\n",
       "      <td>R</td>\n",
       "      <td>Roosevelt Island Tram</td>\n",
       "      <td>08/31/2018</td>\n",
       "      <td>21:00:00</td>\n",
       "      <td>REGULAR</td>\n",
       "      <td>0000005554</td>\n",
       "      <td>0000000348                                    ...</td>\n",
       "      <td>False</td>\n",
       "    </tr>\n",
       "  </tbody>\n",
       "</table>\n",
       "<p>197625 rows × 12 columns</p>\n",
       "</div>"
      ],
      "text/plain": [
       "       CONTROL_AREA  UNIT       SCP        STATION LINENAME  \\\n",
       "0              A002  R051  02-00-00          59 ST  NQR456W   \n",
       "1              A002  R051  02-00-00          59 ST  NQR456W   \n",
       "2              A002  R051  02-00-00          59 ST  NQR456W   \n",
       "3              A002  R051  02-00-00          59 ST  NQR456W   \n",
       "4              A002  R051  02-00-00          59 ST  NQR456W   \n",
       "...             ...   ...       ...            ...      ...   \n",
       "197620        TRAM2  R469  00-05-01  RIT-ROOSEVELT        R   \n",
       "197621        TRAM2  R469  00-05-01  RIT-ROOSEVELT        R   \n",
       "197622        TRAM2  R469  00-05-01  RIT-ROOSEVELT        R   \n",
       "197623        TRAM2  R469  00-05-01  RIT-ROOSEVELT        R   \n",
       "197624        TRAM2  R469  00-05-01  RIT-ROOSEVELT        R   \n",
       "\n",
       "                                      DIVISION        DATE      TIME     DESC  \\\n",
       "0       Brooklyn–Manhattan Transit Corporation  08/25/2018  00:00:00  REGULAR   \n",
       "1       Brooklyn–Manhattan Transit Corporation  08/25/2018  04:00:00  REGULAR   \n",
       "2       Brooklyn–Manhattan Transit Corporation  08/25/2018  08:00:00  REGULAR   \n",
       "3       Brooklyn–Manhattan Transit Corporation  08/25/2018  12:00:00  REGULAR   \n",
       "4       Brooklyn–Manhattan Transit Corporation  08/25/2018  16:00:00  REGULAR   \n",
       "...                                        ...         ...       ...      ...   \n",
       "197620                   Roosevelt Island Tram  08/31/2018  05:00:00  REGULAR   \n",
       "197621                   Roosevelt Island Tram  08/31/2018  09:00:00  REGULAR   \n",
       "197622                   Roosevelt Island Tram  08/31/2018  13:00:00  REGULAR   \n",
       "197623                   Roosevelt Island Tram  08/31/2018  17:00:00  REGULAR   \n",
       "197624                   Roosevelt Island Tram  08/31/2018  21:00:00  REGULAR   \n",
       "\n",
       "           ENTRIES                                              EXITS  \\\n",
       "0       0006736067  0002283184                                    ...   \n",
       "1       0006736087  0002283188                                    ...   \n",
       "2       0006736105  0002283229                                    ...   \n",
       "3       0006736180  0002283314                                    ...   \n",
       "4       0006736349  0002283384                                    ...   \n",
       "...            ...                                                ...   \n",
       "197620  0000005554  0000000348                                    ...   \n",
       "197621  0000005554  0000000348                                    ...   \n",
       "197622  0000005554  0000000348                                    ...   \n",
       "197623  0000005554  0000000348                                    ...   \n",
       "197624  0000005554  0000000348                                    ...   \n",
       "\n",
       "        On_N_Line  \n",
       "0            True  \n",
       "1            True  \n",
       "2            True  \n",
       "3            True  \n",
       "4            True  \n",
       "...           ...  \n",
       "197620      False  \n",
       "197621      False  \n",
       "197622      False  \n",
       "197623      False  \n",
       "197624      False  \n",
       "\n",
       "[197625 rows x 12 columns]"
      ]
     },
     "execution_count": 23,
     "metadata": {},
     "output_type": "execute_result"
    }
   ],
   "source": [
    "df"
   ]
  },
  {
   "cell_type": "markdown",
   "metadata": {},
   "source": [
    "Note that this behavior (not changing the contents of the dataframe unless you use `inplace=True` or reassign the variable) is not a mistake or oversight in pandas. It is a useful feature that lets you preview the outcome of an operation before permanently applying it. This is especially important if you are dropping data or transforming it in a way that is not reversible."
   ]
  },
  {
   "cell_type": "markdown",
   "metadata": {},
   "source": [
    "### Dropping Columns\n",
    "\n",
    "Let's say we have determined that the `DESC` column doesn't matter. We can test out dropping it like this:"
   ]
  },
  {
   "cell_type": "code",
   "execution_count": 24,
   "metadata": {},
   "outputs": [
    {
     "data": {
      "text/html": [
       "<div>\n",
       "<style scoped>\n",
       "    .dataframe tbody tr th:only-of-type {\n",
       "        vertical-align: middle;\n",
       "    }\n",
       "\n",
       "    .dataframe tbody tr th {\n",
       "        vertical-align: top;\n",
       "    }\n",
       "\n",
       "    .dataframe thead th {\n",
       "        text-align: right;\n",
       "    }\n",
       "</style>\n",
       "<table border=\"1\" class=\"dataframe\">\n",
       "  <thead>\n",
       "    <tr style=\"text-align: right;\">\n",
       "      <th></th>\n",
       "      <th>CONTROL_AREA</th>\n",
       "      <th>UNIT</th>\n",
       "      <th>SCP</th>\n",
       "      <th>STATION</th>\n",
       "      <th>LINENAME</th>\n",
       "      <th>DIVISION</th>\n",
       "      <th>DATE</th>\n",
       "      <th>TIME</th>\n",
       "      <th>ENTRIES</th>\n",
       "      <th>EXITS</th>\n",
       "      <th>On_N_Line</th>\n",
       "    </tr>\n",
       "  </thead>\n",
       "  <tbody>\n",
       "    <tr>\n",
       "      <th>0</th>\n",
       "      <td>A002</td>\n",
       "      <td>R051</td>\n",
       "      <td>02-00-00</td>\n",
       "      <td>59 ST</td>\n",
       "      <td>NQR456W</td>\n",
       "      <td>Brooklyn–Manhattan Transit Corporation</td>\n",
       "      <td>08/25/2018</td>\n",
       "      <td>00:00:00</td>\n",
       "      <td>0006736067</td>\n",
       "      <td>0002283184                                    ...</td>\n",
       "      <td>True</td>\n",
       "    </tr>\n",
       "    <tr>\n",
       "      <th>1</th>\n",
       "      <td>A002</td>\n",
       "      <td>R051</td>\n",
       "      <td>02-00-00</td>\n",
       "      <td>59 ST</td>\n",
       "      <td>NQR456W</td>\n",
       "      <td>Brooklyn–Manhattan Transit Corporation</td>\n",
       "      <td>08/25/2018</td>\n",
       "      <td>04:00:00</td>\n",
       "      <td>0006736087</td>\n",
       "      <td>0002283188                                    ...</td>\n",
       "      <td>True</td>\n",
       "    </tr>\n",
       "    <tr>\n",
       "      <th>2</th>\n",
       "      <td>A002</td>\n",
       "      <td>R051</td>\n",
       "      <td>02-00-00</td>\n",
       "      <td>59 ST</td>\n",
       "      <td>NQR456W</td>\n",
       "      <td>Brooklyn–Manhattan Transit Corporation</td>\n",
       "      <td>08/25/2018</td>\n",
       "      <td>08:00:00</td>\n",
       "      <td>0006736105</td>\n",
       "      <td>0002283229                                    ...</td>\n",
       "      <td>True</td>\n",
       "    </tr>\n",
       "    <tr>\n",
       "      <th>3</th>\n",
       "      <td>A002</td>\n",
       "      <td>R051</td>\n",
       "      <td>02-00-00</td>\n",
       "      <td>59 ST</td>\n",
       "      <td>NQR456W</td>\n",
       "      <td>Brooklyn–Manhattan Transit Corporation</td>\n",
       "      <td>08/25/2018</td>\n",
       "      <td>12:00:00</td>\n",
       "      <td>0006736180</td>\n",
       "      <td>0002283314                                    ...</td>\n",
       "      <td>True</td>\n",
       "    </tr>\n",
       "    <tr>\n",
       "      <th>4</th>\n",
       "      <td>A002</td>\n",
       "      <td>R051</td>\n",
       "      <td>02-00-00</td>\n",
       "      <td>59 ST</td>\n",
       "      <td>NQR456W</td>\n",
       "      <td>Brooklyn–Manhattan Transit Corporation</td>\n",
       "      <td>08/25/2018</td>\n",
       "      <td>16:00:00</td>\n",
       "      <td>0006736349</td>\n",
       "      <td>0002283384                                    ...</td>\n",
       "      <td>True</td>\n",
       "    </tr>\n",
       "    <tr>\n",
       "      <th>...</th>\n",
       "      <td>...</td>\n",
       "      <td>...</td>\n",
       "      <td>...</td>\n",
       "      <td>...</td>\n",
       "      <td>...</td>\n",
       "      <td>...</td>\n",
       "      <td>...</td>\n",
       "      <td>...</td>\n",
       "      <td>...</td>\n",
       "      <td>...</td>\n",
       "      <td>...</td>\n",
       "    </tr>\n",
       "    <tr>\n",
       "      <th>197620</th>\n",
       "      <td>TRAM2</td>\n",
       "      <td>R469</td>\n",
       "      <td>00-05-01</td>\n",
       "      <td>RIT-ROOSEVELT</td>\n",
       "      <td>R</td>\n",
       "      <td>Roosevelt Island Tram</td>\n",
       "      <td>08/31/2018</td>\n",
       "      <td>05:00:00</td>\n",
       "      <td>0000005554</td>\n",
       "      <td>0000000348                                    ...</td>\n",
       "      <td>False</td>\n",
       "    </tr>\n",
       "    <tr>\n",
       "      <th>197621</th>\n",
       "      <td>TRAM2</td>\n",
       "      <td>R469</td>\n",
       "      <td>00-05-01</td>\n",
       "      <td>RIT-ROOSEVELT</td>\n",
       "      <td>R</td>\n",
       "      <td>Roosevelt Island Tram</td>\n",
       "      <td>08/31/2018</td>\n",
       "      <td>09:00:00</td>\n",
       "      <td>0000005554</td>\n",
       "      <td>0000000348                                    ...</td>\n",
       "      <td>False</td>\n",
       "    </tr>\n",
       "    <tr>\n",
       "      <th>197622</th>\n",
       "      <td>TRAM2</td>\n",
       "      <td>R469</td>\n",
       "      <td>00-05-01</td>\n",
       "      <td>RIT-ROOSEVELT</td>\n",
       "      <td>R</td>\n",
       "      <td>Roosevelt Island Tram</td>\n",
       "      <td>08/31/2018</td>\n",
       "      <td>13:00:00</td>\n",
       "      <td>0000005554</td>\n",
       "      <td>0000000348                                    ...</td>\n",
       "      <td>False</td>\n",
       "    </tr>\n",
       "    <tr>\n",
       "      <th>197623</th>\n",
       "      <td>TRAM2</td>\n",
       "      <td>R469</td>\n",
       "      <td>00-05-01</td>\n",
       "      <td>RIT-ROOSEVELT</td>\n",
       "      <td>R</td>\n",
       "      <td>Roosevelt Island Tram</td>\n",
       "      <td>08/31/2018</td>\n",
       "      <td>17:00:00</td>\n",
       "      <td>0000005554</td>\n",
       "      <td>0000000348                                    ...</td>\n",
       "      <td>False</td>\n",
       "    </tr>\n",
       "    <tr>\n",
       "      <th>197624</th>\n",
       "      <td>TRAM2</td>\n",
       "      <td>R469</td>\n",
       "      <td>00-05-01</td>\n",
       "      <td>RIT-ROOSEVELT</td>\n",
       "      <td>R</td>\n",
       "      <td>Roosevelt Island Tram</td>\n",
       "      <td>08/31/2018</td>\n",
       "      <td>21:00:00</td>\n",
       "      <td>0000005554</td>\n",
       "      <td>0000000348                                    ...</td>\n",
       "      <td>False</td>\n",
       "    </tr>\n",
       "  </tbody>\n",
       "</table>\n",
       "<p>197625 rows × 11 columns</p>\n",
       "</div>"
      ],
      "text/plain": [
       "       CONTROL_AREA  UNIT       SCP        STATION LINENAME  \\\n",
       "0              A002  R051  02-00-00          59 ST  NQR456W   \n",
       "1              A002  R051  02-00-00          59 ST  NQR456W   \n",
       "2              A002  R051  02-00-00          59 ST  NQR456W   \n",
       "3              A002  R051  02-00-00          59 ST  NQR456W   \n",
       "4              A002  R051  02-00-00          59 ST  NQR456W   \n",
       "...             ...   ...       ...            ...      ...   \n",
       "197620        TRAM2  R469  00-05-01  RIT-ROOSEVELT        R   \n",
       "197621        TRAM2  R469  00-05-01  RIT-ROOSEVELT        R   \n",
       "197622        TRAM2  R469  00-05-01  RIT-ROOSEVELT        R   \n",
       "197623        TRAM2  R469  00-05-01  RIT-ROOSEVELT        R   \n",
       "197624        TRAM2  R469  00-05-01  RIT-ROOSEVELT        R   \n",
       "\n",
       "                                      DIVISION        DATE      TIME  \\\n",
       "0       Brooklyn–Manhattan Transit Corporation  08/25/2018  00:00:00   \n",
       "1       Brooklyn–Manhattan Transit Corporation  08/25/2018  04:00:00   \n",
       "2       Brooklyn–Manhattan Transit Corporation  08/25/2018  08:00:00   \n",
       "3       Brooklyn–Manhattan Transit Corporation  08/25/2018  12:00:00   \n",
       "4       Brooklyn–Manhattan Transit Corporation  08/25/2018  16:00:00   \n",
       "...                                        ...         ...       ...   \n",
       "197620                   Roosevelt Island Tram  08/31/2018  05:00:00   \n",
       "197621                   Roosevelt Island Tram  08/31/2018  09:00:00   \n",
       "197622                   Roosevelt Island Tram  08/31/2018  13:00:00   \n",
       "197623                   Roosevelt Island Tram  08/31/2018  17:00:00   \n",
       "197624                   Roosevelt Island Tram  08/31/2018  21:00:00   \n",
       "\n",
       "           ENTRIES                                              EXITS  \\\n",
       "0       0006736067  0002283184                                    ...   \n",
       "1       0006736087  0002283188                                    ...   \n",
       "2       0006736105  0002283229                                    ...   \n",
       "3       0006736180  0002283314                                    ...   \n",
       "4       0006736349  0002283384                                    ...   \n",
       "...            ...                                                ...   \n",
       "197620  0000005554  0000000348                                    ...   \n",
       "197621  0000005554  0000000348                                    ...   \n",
       "197622  0000005554  0000000348                                    ...   \n",
       "197623  0000005554  0000000348                                    ...   \n",
       "197624  0000005554  0000000348                                    ...   \n",
       "\n",
       "        On_N_Line  \n",
       "0            True  \n",
       "1            True  \n",
       "2            True  \n",
       "3            True  \n",
       "4            True  \n",
       "...           ...  \n",
       "197620      False  \n",
       "197621      False  \n",
       "197622      False  \n",
       "197623      False  \n",
       "197624      False  \n",
       "\n",
       "[197625 rows x 11 columns]"
      ]
     },
     "execution_count": 24,
     "metadata": {},
     "output_type": "execute_result"
    }
   ],
   "source": [
    "df.drop('DESC', axis=1)"
   ]
  },
  {
   "cell_type": "markdown",
   "metadata": {},
   "source": [
    "Note the `axis=1` argument. By default, `df.drop()` tries to drop rows (`axis=0`) with the specified index, e.g.:"
   ]
  },
  {
   "cell_type": "code",
   "execution_count": 25,
   "metadata": {},
   "outputs": [
    {
     "data": {
      "text/html": [
       "<div>\n",
       "<style scoped>\n",
       "    .dataframe tbody tr th:only-of-type {\n",
       "        vertical-align: middle;\n",
       "    }\n",
       "\n",
       "    .dataframe tbody tr th {\n",
       "        vertical-align: top;\n",
       "    }\n",
       "\n",
       "    .dataframe thead th {\n",
       "        text-align: right;\n",
       "    }\n",
       "</style>\n",
       "<table border=\"1\" class=\"dataframe\">\n",
       "  <thead>\n",
       "    <tr style=\"text-align: right;\">\n",
       "      <th></th>\n",
       "      <th>CONTROL_AREA</th>\n",
       "      <th>UNIT</th>\n",
       "      <th>SCP</th>\n",
       "      <th>STATION</th>\n",
       "      <th>LINENAME</th>\n",
       "      <th>DIVISION</th>\n",
       "      <th>DATE</th>\n",
       "      <th>TIME</th>\n",
       "      <th>DESC</th>\n",
       "      <th>ENTRIES</th>\n",
       "      <th>EXITS</th>\n",
       "      <th>On_N_Line</th>\n",
       "    </tr>\n",
       "  </thead>\n",
       "  <tbody>\n",
       "    <tr>\n",
       "      <th>0</th>\n",
       "      <td>A002</td>\n",
       "      <td>R051</td>\n",
       "      <td>02-00-00</td>\n",
       "      <td>59 ST</td>\n",
       "      <td>NQR456W</td>\n",
       "      <td>Brooklyn–Manhattan Transit Corporation</td>\n",
       "      <td>08/25/2018</td>\n",
       "      <td>00:00:00</td>\n",
       "      <td>REGULAR</td>\n",
       "      <td>0006736067</td>\n",
       "      <td>0002283184                                    ...</td>\n",
       "      <td>True</td>\n",
       "    </tr>\n",
       "    <tr>\n",
       "      <th>1</th>\n",
       "      <td>A002</td>\n",
       "      <td>R051</td>\n",
       "      <td>02-00-00</td>\n",
       "      <td>59 ST</td>\n",
       "      <td>NQR456W</td>\n",
       "      <td>Brooklyn–Manhattan Transit Corporation</td>\n",
       "      <td>08/25/2018</td>\n",
       "      <td>04:00:00</td>\n",
       "      <td>REGULAR</td>\n",
       "      <td>0006736087</td>\n",
       "      <td>0002283188                                    ...</td>\n",
       "      <td>True</td>\n",
       "    </tr>\n",
       "    <tr>\n",
       "      <th>2</th>\n",
       "      <td>A002</td>\n",
       "      <td>R051</td>\n",
       "      <td>02-00-00</td>\n",
       "      <td>59 ST</td>\n",
       "      <td>NQR456W</td>\n",
       "      <td>Brooklyn–Manhattan Transit Corporation</td>\n",
       "      <td>08/25/2018</td>\n",
       "      <td>08:00:00</td>\n",
       "      <td>REGULAR</td>\n",
       "      <td>0006736105</td>\n",
       "      <td>0002283229                                    ...</td>\n",
       "      <td>True</td>\n",
       "    </tr>\n",
       "    <tr>\n",
       "      <th>4</th>\n",
       "      <td>A002</td>\n",
       "      <td>R051</td>\n",
       "      <td>02-00-00</td>\n",
       "      <td>59 ST</td>\n",
       "      <td>NQR456W</td>\n",
       "      <td>Brooklyn–Manhattan Transit Corporation</td>\n",
       "      <td>08/25/2018</td>\n",
       "      <td>16:00:00</td>\n",
       "      <td>REGULAR</td>\n",
       "      <td>0006736349</td>\n",
       "      <td>0002283384                                    ...</td>\n",
       "      <td>True</td>\n",
       "    </tr>\n",
       "    <tr>\n",
       "      <th>5</th>\n",
       "      <td>A002</td>\n",
       "      <td>R051</td>\n",
       "      <td>02-00-00</td>\n",
       "      <td>59 ST</td>\n",
       "      <td>NQR456W</td>\n",
       "      <td>Brooklyn–Manhattan Transit Corporation</td>\n",
       "      <td>08/25/2018</td>\n",
       "      <td>20:00:00</td>\n",
       "      <td>REGULAR</td>\n",
       "      <td>0006736562</td>\n",
       "      <td>0002283425                                    ...</td>\n",
       "      <td>True</td>\n",
       "    </tr>\n",
       "  </tbody>\n",
       "</table>\n",
       "</div>"
      ],
      "text/plain": [
       "  CONTROL_AREA  UNIT       SCP STATION LINENAME  \\\n",
       "0         A002  R051  02-00-00   59 ST  NQR456W   \n",
       "1         A002  R051  02-00-00   59 ST  NQR456W   \n",
       "2         A002  R051  02-00-00   59 ST  NQR456W   \n",
       "4         A002  R051  02-00-00   59 ST  NQR456W   \n",
       "5         A002  R051  02-00-00   59 ST  NQR456W   \n",
       "\n",
       "                                 DIVISION        DATE      TIME     DESC  \\\n",
       "0  Brooklyn–Manhattan Transit Corporation  08/25/2018  00:00:00  REGULAR   \n",
       "1  Brooklyn–Manhattan Transit Corporation  08/25/2018  04:00:00  REGULAR   \n",
       "2  Brooklyn–Manhattan Transit Corporation  08/25/2018  08:00:00  REGULAR   \n",
       "4  Brooklyn–Manhattan Transit Corporation  08/25/2018  16:00:00  REGULAR   \n",
       "5  Brooklyn–Manhattan Transit Corporation  08/25/2018  20:00:00  REGULAR   \n",
       "\n",
       "      ENTRIES                                              EXITS  On_N_Line  \n",
       "0  0006736067  0002283184                                    ...       True  \n",
       "1  0006736087  0002283188                                    ...       True  \n",
       "2  0006736105  0002283229                                    ...       True  \n",
       "4  0006736349  0002283384                                    ...       True  \n",
       "5  0006736562  0002283425                                    ...       True  "
      ]
     },
     "execution_count": 25,
     "metadata": {},
     "output_type": "execute_result"
    }
   ],
   "source": [
    "df.drop(3).head()"
   ]
  },
  {
   "cell_type": "markdown",
   "metadata": {},
   "source": [
    "If you are trying to drop a column and you forget the `axis=1`, you'll get an error message like this:"
   ]
  },
  {
   "cell_type": "code",
   "execution_count": 26,
   "metadata": {},
   "outputs": [
    {
     "ename": "KeyError",
     "evalue": "\"['DESC'] not found in axis\"",
     "output_type": "error",
     "traceback": [
      "\u001b[0;31m---------------------------------------------------------------------------\u001b[0m",
      "\u001b[0;31mKeyError\u001b[0m                                  Traceback (most recent call last)",
      "\u001b[0;32m<ipython-input-26-5e67d3b7434b>\u001b[0m in \u001b[0;36m<module>\u001b[0;34m\u001b[0m\n\u001b[0;32m----> 1\u001b[0;31m \u001b[0mdf\u001b[0m\u001b[0;34m.\u001b[0m\u001b[0mdrop\u001b[0m\u001b[0;34m(\u001b[0m\u001b[0;34m'DESC'\u001b[0m\u001b[0;34m)\u001b[0m\u001b[0;34m\u001b[0m\u001b[0;34m\u001b[0m\u001b[0m\n\u001b[0m",
      "\u001b[0;32m//anaconda3/envs/learn-env/lib/python3.8/site-packages/pandas/core/frame.py\u001b[0m in \u001b[0;36mdrop\u001b[0;34m(self, labels, axis, index, columns, level, inplace, errors)\u001b[0m\n\u001b[1;32m   4161\u001b[0m                 \u001b[0mweight\u001b[0m  \u001b[0;36m1.0\u001b[0m     \u001b[0;36m0.8\u001b[0m\u001b[0;34m\u001b[0m\u001b[0;34m\u001b[0m\u001b[0m\n\u001b[1;32m   4162\u001b[0m         \"\"\"\n\u001b[0;32m-> 4163\u001b[0;31m         return super().drop(\n\u001b[0m\u001b[1;32m   4164\u001b[0m             \u001b[0mlabels\u001b[0m\u001b[0;34m=\u001b[0m\u001b[0mlabels\u001b[0m\u001b[0;34m,\u001b[0m\u001b[0;34m\u001b[0m\u001b[0;34m\u001b[0m\u001b[0m\n\u001b[1;32m   4165\u001b[0m             \u001b[0maxis\u001b[0m\u001b[0;34m=\u001b[0m\u001b[0maxis\u001b[0m\u001b[0;34m,\u001b[0m\u001b[0;34m\u001b[0m\u001b[0;34m\u001b[0m\u001b[0m\n",
      "\u001b[0;32m//anaconda3/envs/learn-env/lib/python3.8/site-packages/pandas/core/generic.py\u001b[0m in \u001b[0;36mdrop\u001b[0;34m(self, labels, axis, index, columns, level, inplace, errors)\u001b[0m\n\u001b[1;32m   3885\u001b[0m         \u001b[0;32mfor\u001b[0m \u001b[0maxis\u001b[0m\u001b[0;34m,\u001b[0m \u001b[0mlabels\u001b[0m \u001b[0;32min\u001b[0m \u001b[0maxes\u001b[0m\u001b[0;34m.\u001b[0m\u001b[0mitems\u001b[0m\u001b[0;34m(\u001b[0m\u001b[0;34m)\u001b[0m\u001b[0;34m:\u001b[0m\u001b[0;34m\u001b[0m\u001b[0;34m\u001b[0m\u001b[0m\n\u001b[1;32m   3886\u001b[0m             \u001b[0;32mif\u001b[0m \u001b[0mlabels\u001b[0m \u001b[0;32mis\u001b[0m \u001b[0;32mnot\u001b[0m \u001b[0;32mNone\u001b[0m\u001b[0;34m:\u001b[0m\u001b[0;34m\u001b[0m\u001b[0;34m\u001b[0m\u001b[0m\n\u001b[0;32m-> 3887\u001b[0;31m                 \u001b[0mobj\u001b[0m \u001b[0;34m=\u001b[0m \u001b[0mobj\u001b[0m\u001b[0;34m.\u001b[0m\u001b[0m_drop_axis\u001b[0m\u001b[0;34m(\u001b[0m\u001b[0mlabels\u001b[0m\u001b[0;34m,\u001b[0m \u001b[0maxis\u001b[0m\u001b[0;34m,\u001b[0m \u001b[0mlevel\u001b[0m\u001b[0;34m=\u001b[0m\u001b[0mlevel\u001b[0m\u001b[0;34m,\u001b[0m \u001b[0merrors\u001b[0m\u001b[0;34m=\u001b[0m\u001b[0merrors\u001b[0m\u001b[0;34m)\u001b[0m\u001b[0;34m\u001b[0m\u001b[0;34m\u001b[0m\u001b[0m\n\u001b[0m\u001b[1;32m   3888\u001b[0m \u001b[0;34m\u001b[0m\u001b[0m\n\u001b[1;32m   3889\u001b[0m         \u001b[0;32mif\u001b[0m \u001b[0minplace\u001b[0m\u001b[0;34m:\u001b[0m\u001b[0;34m\u001b[0m\u001b[0;34m\u001b[0m\u001b[0m\n",
      "\u001b[0;32m//anaconda3/envs/learn-env/lib/python3.8/site-packages/pandas/core/generic.py\u001b[0m in \u001b[0;36m_drop_axis\u001b[0;34m(self, labels, axis, level, errors)\u001b[0m\n\u001b[1;32m   3919\u001b[0m                 \u001b[0mnew_axis\u001b[0m \u001b[0;34m=\u001b[0m \u001b[0maxis\u001b[0m\u001b[0;34m.\u001b[0m\u001b[0mdrop\u001b[0m\u001b[0;34m(\u001b[0m\u001b[0mlabels\u001b[0m\u001b[0;34m,\u001b[0m \u001b[0mlevel\u001b[0m\u001b[0;34m=\u001b[0m\u001b[0mlevel\u001b[0m\u001b[0;34m,\u001b[0m \u001b[0merrors\u001b[0m\u001b[0;34m=\u001b[0m\u001b[0merrors\u001b[0m\u001b[0;34m)\u001b[0m\u001b[0;34m\u001b[0m\u001b[0;34m\u001b[0m\u001b[0m\n\u001b[1;32m   3920\u001b[0m             \u001b[0;32melse\u001b[0m\u001b[0;34m:\u001b[0m\u001b[0;34m\u001b[0m\u001b[0;34m\u001b[0m\u001b[0m\n\u001b[0;32m-> 3921\u001b[0;31m                 \u001b[0mnew_axis\u001b[0m \u001b[0;34m=\u001b[0m \u001b[0maxis\u001b[0m\u001b[0;34m.\u001b[0m\u001b[0mdrop\u001b[0m\u001b[0;34m(\u001b[0m\u001b[0mlabels\u001b[0m\u001b[0;34m,\u001b[0m \u001b[0merrors\u001b[0m\u001b[0;34m=\u001b[0m\u001b[0merrors\u001b[0m\u001b[0;34m)\u001b[0m\u001b[0;34m\u001b[0m\u001b[0;34m\u001b[0m\u001b[0m\n\u001b[0m\u001b[1;32m   3922\u001b[0m             \u001b[0mresult\u001b[0m \u001b[0;34m=\u001b[0m \u001b[0mself\u001b[0m\u001b[0;34m.\u001b[0m\u001b[0mreindex\u001b[0m\u001b[0;34m(\u001b[0m\u001b[0;34m**\u001b[0m\u001b[0;34m{\u001b[0m\u001b[0maxis_name\u001b[0m\u001b[0;34m:\u001b[0m \u001b[0mnew_axis\u001b[0m\u001b[0;34m}\u001b[0m\u001b[0;34m)\u001b[0m\u001b[0;34m\u001b[0m\u001b[0;34m\u001b[0m\u001b[0m\n\u001b[1;32m   3923\u001b[0m \u001b[0;34m\u001b[0m\u001b[0m\n",
      "\u001b[0;32m//anaconda3/envs/learn-env/lib/python3.8/site-packages/pandas/core/indexes/base.py\u001b[0m in \u001b[0;36mdrop\u001b[0;34m(self, labels, errors)\u001b[0m\n\u001b[1;32m   5280\u001b[0m         \u001b[0;32mif\u001b[0m \u001b[0mmask\u001b[0m\u001b[0;34m.\u001b[0m\u001b[0many\u001b[0m\u001b[0;34m(\u001b[0m\u001b[0;34m)\u001b[0m\u001b[0;34m:\u001b[0m\u001b[0;34m\u001b[0m\u001b[0;34m\u001b[0m\u001b[0m\n\u001b[1;32m   5281\u001b[0m             \u001b[0;32mif\u001b[0m \u001b[0merrors\u001b[0m \u001b[0;34m!=\u001b[0m \u001b[0;34m\"ignore\"\u001b[0m\u001b[0;34m:\u001b[0m\u001b[0;34m\u001b[0m\u001b[0;34m\u001b[0m\u001b[0m\n\u001b[0;32m-> 5282\u001b[0;31m                 \u001b[0;32mraise\u001b[0m \u001b[0mKeyError\u001b[0m\u001b[0;34m(\u001b[0m\u001b[0;34mf\"{labels[mask]} not found in axis\"\u001b[0m\u001b[0;34m)\u001b[0m\u001b[0;34m\u001b[0m\u001b[0;34m\u001b[0m\u001b[0m\n\u001b[0m\u001b[1;32m   5283\u001b[0m             \u001b[0mindexer\u001b[0m \u001b[0;34m=\u001b[0m \u001b[0mindexer\u001b[0m\u001b[0;34m[\u001b[0m\u001b[0;34m~\u001b[0m\u001b[0mmask\u001b[0m\u001b[0;34m]\u001b[0m\u001b[0;34m\u001b[0m\u001b[0;34m\u001b[0m\u001b[0m\n\u001b[1;32m   5284\u001b[0m         \u001b[0;32mreturn\u001b[0m \u001b[0mself\u001b[0m\u001b[0;34m.\u001b[0m\u001b[0mdelete\u001b[0m\u001b[0;34m(\u001b[0m\u001b[0mindexer\u001b[0m\u001b[0;34m)\u001b[0m\u001b[0;34m\u001b[0m\u001b[0;34m\u001b[0m\u001b[0m\n",
      "\u001b[0;31mKeyError\u001b[0m: \"['DESC'] not found in axis\""
     ]
    }
   ],
   "source": [
    "df.drop('DESC')"
   ]
  },
  {
   "cell_type": "markdown",
   "metadata": {},
   "source": [
    "Let's go ahead and permanently drop that column:"
   ]
  },
  {
   "cell_type": "code",
   "execution_count": 27,
   "metadata": {},
   "outputs": [
    {
     "data": {
      "text/html": [
       "<div>\n",
       "<style scoped>\n",
       "    .dataframe tbody tr th:only-of-type {\n",
       "        vertical-align: middle;\n",
       "    }\n",
       "\n",
       "    .dataframe tbody tr th {\n",
       "        vertical-align: top;\n",
       "    }\n",
       "\n",
       "    .dataframe thead th {\n",
       "        text-align: right;\n",
       "    }\n",
       "</style>\n",
       "<table border=\"1\" class=\"dataframe\">\n",
       "  <thead>\n",
       "    <tr style=\"text-align: right;\">\n",
       "      <th></th>\n",
       "      <th>CONTROL_AREA</th>\n",
       "      <th>UNIT</th>\n",
       "      <th>SCP</th>\n",
       "      <th>STATION</th>\n",
       "      <th>LINENAME</th>\n",
       "      <th>DIVISION</th>\n",
       "      <th>DATE</th>\n",
       "      <th>TIME</th>\n",
       "      <th>ENTRIES</th>\n",
       "      <th>EXITS</th>\n",
       "      <th>On_N_Line</th>\n",
       "    </tr>\n",
       "  </thead>\n",
       "  <tbody>\n",
       "    <tr>\n",
       "      <th>0</th>\n",
       "      <td>A002</td>\n",
       "      <td>R051</td>\n",
       "      <td>02-00-00</td>\n",
       "      <td>59 ST</td>\n",
       "      <td>NQR456W</td>\n",
       "      <td>Brooklyn–Manhattan Transit Corporation</td>\n",
       "      <td>08/25/2018</td>\n",
       "      <td>00:00:00</td>\n",
       "      <td>0006736067</td>\n",
       "      <td>0002283184                                    ...</td>\n",
       "      <td>True</td>\n",
       "    </tr>\n",
       "    <tr>\n",
       "      <th>1</th>\n",
       "      <td>A002</td>\n",
       "      <td>R051</td>\n",
       "      <td>02-00-00</td>\n",
       "      <td>59 ST</td>\n",
       "      <td>NQR456W</td>\n",
       "      <td>Brooklyn–Manhattan Transit Corporation</td>\n",
       "      <td>08/25/2018</td>\n",
       "      <td>04:00:00</td>\n",
       "      <td>0006736087</td>\n",
       "      <td>0002283188                                    ...</td>\n",
       "      <td>True</td>\n",
       "    </tr>\n",
       "    <tr>\n",
       "      <th>2</th>\n",
       "      <td>A002</td>\n",
       "      <td>R051</td>\n",
       "      <td>02-00-00</td>\n",
       "      <td>59 ST</td>\n",
       "      <td>NQR456W</td>\n",
       "      <td>Brooklyn–Manhattan Transit Corporation</td>\n",
       "      <td>08/25/2018</td>\n",
       "      <td>08:00:00</td>\n",
       "      <td>0006736105</td>\n",
       "      <td>0002283229                                    ...</td>\n",
       "      <td>True</td>\n",
       "    </tr>\n",
       "    <tr>\n",
       "      <th>3</th>\n",
       "      <td>A002</td>\n",
       "      <td>R051</td>\n",
       "      <td>02-00-00</td>\n",
       "      <td>59 ST</td>\n",
       "      <td>NQR456W</td>\n",
       "      <td>Brooklyn–Manhattan Transit Corporation</td>\n",
       "      <td>08/25/2018</td>\n",
       "      <td>12:00:00</td>\n",
       "      <td>0006736180</td>\n",
       "      <td>0002283314                                    ...</td>\n",
       "      <td>True</td>\n",
       "    </tr>\n",
       "    <tr>\n",
       "      <th>4</th>\n",
       "      <td>A002</td>\n",
       "      <td>R051</td>\n",
       "      <td>02-00-00</td>\n",
       "      <td>59 ST</td>\n",
       "      <td>NQR456W</td>\n",
       "      <td>Brooklyn–Manhattan Transit Corporation</td>\n",
       "      <td>08/25/2018</td>\n",
       "      <td>16:00:00</td>\n",
       "      <td>0006736349</td>\n",
       "      <td>0002283384                                    ...</td>\n",
       "      <td>True</td>\n",
       "    </tr>\n",
       "  </tbody>\n",
       "</table>\n",
       "</div>"
      ],
      "text/plain": [
       "  CONTROL_AREA  UNIT       SCP STATION LINENAME  \\\n",
       "0         A002  R051  02-00-00   59 ST  NQR456W   \n",
       "1         A002  R051  02-00-00   59 ST  NQR456W   \n",
       "2         A002  R051  02-00-00   59 ST  NQR456W   \n",
       "3         A002  R051  02-00-00   59 ST  NQR456W   \n",
       "4         A002  R051  02-00-00   59 ST  NQR456W   \n",
       "\n",
       "                                 DIVISION        DATE      TIME     ENTRIES  \\\n",
       "0  Brooklyn–Manhattan Transit Corporation  08/25/2018  00:00:00  0006736067   \n",
       "1  Brooklyn–Manhattan Transit Corporation  08/25/2018  04:00:00  0006736087   \n",
       "2  Brooklyn–Manhattan Transit Corporation  08/25/2018  08:00:00  0006736105   \n",
       "3  Brooklyn–Manhattan Transit Corporation  08/25/2018  12:00:00  0006736180   \n",
       "4  Brooklyn–Manhattan Transit Corporation  08/25/2018  16:00:00  0006736349   \n",
       "\n",
       "                                               EXITS  On_N_Line  \n",
       "0  0002283184                                    ...       True  \n",
       "1  0002283188                                    ...       True  \n",
       "2  0002283229                                    ...       True  \n",
       "3  0002283314                                    ...       True  \n",
       "4  0002283384                                    ...       True  "
      ]
     },
     "execution_count": 27,
     "metadata": {},
     "output_type": "execute_result"
    }
   ],
   "source": [
    "df = df.drop('DESC', axis=1) \n",
    "df.head()"
   ]
  },
  {
   "cell_type": "markdown",
   "metadata": {},
   "source": [
    "### Changing Column Types\n",
    "\n",
    "Another common data munging technique can be reformatting column types. We first previewed column types above using the `df.info()` method, which we'll repeat here."
   ]
  },
  {
   "cell_type": "code",
   "execution_count": 28,
   "metadata": {},
   "outputs": [
    {
     "name": "stdout",
     "output_type": "stream",
     "text": [
      "<class 'pandas.core.frame.DataFrame'>\n",
      "RangeIndex: 197625 entries, 0 to 197624\n",
      "Data columns (total 11 columns):\n",
      " #   Column        Non-Null Count   Dtype \n",
      "---  ------        --------------   ----- \n",
      " 0   CONTROL_AREA  197625 non-null  object\n",
      " 1   UNIT          197625 non-null  object\n",
      " 2   SCP           197625 non-null  object\n",
      " 3   STATION       197625 non-null  object\n",
      " 4   LINENAME      197625 non-null  object\n",
      " 5   DIVISION      197625 non-null  object\n",
      " 6   DATE          197625 non-null  object\n",
      " 7   TIME          197625 non-null  object\n",
      " 8   ENTRIES       197625 non-null  object\n",
      " 9   EXITS         197625 non-null  object\n",
      " 10  On_N_Line     197625 non-null  bool  \n",
      "dtypes: bool(1), object(10)\n",
      "memory usage: 15.3+ MB\n"
     ]
    }
   ],
   "source": [
    "df.info()"
   ]
  },
  {
   "cell_type": "markdown",
   "metadata": {},
   "source": [
    "We can also check the data type of an individual column, rather than listing all of them:"
   ]
  },
  {
   "cell_type": "code",
   "execution_count": 29,
   "metadata": {},
   "outputs": [
    {
     "name": "stdout",
     "output_type": "stream",
     "text": [
      "object\n"
     ]
    }
   ],
   "source": [
    "print(df['ENTRIES'].dtype)"
   ]
  },
  {
   "cell_type": "markdown",
   "metadata": {},
   "source": [
    "In this case we specified `dtype=str` when we opened the file, telling pandas to treat all of the columns as strings initially. So currently every column except for `On_N_Line` is dtype `object`.\n",
    "\n",
    "A common transformation needed is converting numbers stored as text (dtype `object`) to *float* or *integer* representations.\n",
    "\n",
    "Let's look more closely at `ENTRIES`:"
   ]
  },
  {
   "cell_type": "code",
   "execution_count": 30,
   "metadata": {},
   "outputs": [
    {
     "data": {
      "text/plain": [
       "0    0006736067\n",
       "1    0006736087\n",
       "2    0006736105\n",
       "3    0006736180\n",
       "4    0006736349\n",
       "5    0006736562\n",
       "Name: ENTRIES, dtype: object"
      ]
     },
     "execution_count": 30,
     "metadata": {},
     "output_type": "execute_result"
    }
   ],
   "source": [
    "df.loc[:5, 'ENTRIES']"
   ]
  },
  {
   "cell_type": "markdown",
   "metadata": {},
   "source": [
    "Those seem like integers. Let's try converting the type:"
   ]
  },
  {
   "cell_type": "code",
   "execution_count": 31,
   "metadata": {},
   "outputs": [
    {
     "data": {
      "text/plain": [
       "0    6736067\n",
       "1    6736087\n",
       "2    6736105\n",
       "3    6736180\n",
       "4    6736349\n",
       "5    6736562\n",
       "Name: ENTRIES, dtype: int64"
      ]
     },
     "execution_count": 31,
     "metadata": {},
     "output_type": "execute_result"
    }
   ],
   "source": [
    "df.loc[:5, 'ENTRIES'].astype(int)"
   ]
  },
  {
   "cell_type": "markdown",
   "metadata": {},
   "source": [
    "Note that again, we could use `.map()` instead:"
   ]
  },
  {
   "cell_type": "code",
   "execution_count": 32,
   "metadata": {},
   "outputs": [
    {
     "data": {
      "text/plain": [
       "0    6736067\n",
       "1    6736087\n",
       "2    6736105\n",
       "3    6736180\n",
       "4    6736349\n",
       "5    6736562\n",
       "Name: ENTRIES, dtype: int64"
      ]
     },
     "execution_count": 32,
     "metadata": {},
     "output_type": "execute_result"
    }
   ],
   "source": [
    "# int is a built-in function, so we do not\n",
    "# need to declare a helper function here\n",
    "df.loc[:5, 'ENTRIES'].map(int)"
   ]
  },
  {
   "cell_type": "markdown",
   "metadata": {},
   "source": [
    "That looks good, so let's change the type of that column:"
   ]
  },
  {
   "cell_type": "code",
   "execution_count": 33,
   "metadata": {},
   "outputs": [],
   "source": [
    "df['ENTRIES'] = df['ENTRIES'].astype(int)"
   ]
  },
  {
   "cell_type": "code",
   "execution_count": 34,
   "metadata": {},
   "outputs": [
    {
     "name": "stdout",
     "output_type": "stream",
     "text": [
      "<class 'pandas.core.frame.DataFrame'>\n",
      "RangeIndex: 197625 entries, 0 to 197624\n",
      "Data columns (total 11 columns):\n",
      " #   Column        Non-Null Count   Dtype \n",
      "---  ------        --------------   ----- \n",
      " 0   CONTROL_AREA  197625 non-null  object\n",
      " 1   UNIT          197625 non-null  object\n",
      " 2   SCP           197625 non-null  object\n",
      " 3   STATION       197625 non-null  object\n",
      " 4   LINENAME      197625 non-null  object\n",
      " 5   DIVISION      197625 non-null  object\n",
      " 6   DATE          197625 non-null  object\n",
      " 7   TIME          197625 non-null  object\n",
      " 8   ENTRIES       197625 non-null  int64 \n",
      " 9   EXITS         197625 non-null  object\n",
      " 10  On_N_Line     197625 non-null  bool  \n",
      "dtypes: bool(1), int64(1), object(9)\n",
      "memory usage: 15.3+ MB\n"
     ]
    }
   ],
   "source": [
    "df.info()"
   ]
  },
  {
   "cell_type": "markdown",
   "metadata": {},
   "source": [
    "Attempting to convert a string column to int or float will produce errors if there are actually non-numeric characters. For example, `LINENAME`:"
   ]
  },
  {
   "cell_type": "code",
   "execution_count": 35,
   "metadata": {},
   "outputs": [
    {
     "ename": "ValueError",
     "evalue": "invalid literal for int() with base 10: 'NQR456W'",
     "output_type": "error",
     "traceback": [
      "\u001b[0;31m---------------------------------------------------------------------------\u001b[0m",
      "\u001b[0;31mValueError\u001b[0m                                Traceback (most recent call last)",
      "\u001b[0;32m<ipython-input-35-606443ef165a>\u001b[0m in \u001b[0;36m<module>\u001b[0;34m\u001b[0m\n\u001b[0;32m----> 1\u001b[0;31m \u001b[0mdf\u001b[0m\u001b[0;34m[\u001b[0m\u001b[0;34m'LINENAME'\u001b[0m\u001b[0;34m]\u001b[0m \u001b[0;34m=\u001b[0m \u001b[0mdf\u001b[0m\u001b[0;34m[\u001b[0m\u001b[0;34m'LINENAME'\u001b[0m\u001b[0;34m]\u001b[0m\u001b[0;34m.\u001b[0m\u001b[0mastype\u001b[0m\u001b[0;34m(\u001b[0m\u001b[0mint\u001b[0m\u001b[0;34m)\u001b[0m\u001b[0;34m\u001b[0m\u001b[0;34m\u001b[0m\u001b[0m\n\u001b[0m",
      "\u001b[0;32m//anaconda3/envs/learn-env/lib/python3.8/site-packages/pandas/core/generic.py\u001b[0m in \u001b[0;36mastype\u001b[0;34m(self, dtype, copy, errors)\u001b[0m\n\u001b[1;32m   5544\u001b[0m         \u001b[0;32melse\u001b[0m\u001b[0;34m:\u001b[0m\u001b[0;34m\u001b[0m\u001b[0;34m\u001b[0m\u001b[0m\n\u001b[1;32m   5545\u001b[0m             \u001b[0;31m# else, only a single dtype is given\u001b[0m\u001b[0;34m\u001b[0m\u001b[0;34m\u001b[0m\u001b[0;34m\u001b[0m\u001b[0m\n\u001b[0;32m-> 5546\u001b[0;31m             \u001b[0mnew_data\u001b[0m \u001b[0;34m=\u001b[0m \u001b[0mself\u001b[0m\u001b[0;34m.\u001b[0m\u001b[0m_mgr\u001b[0m\u001b[0;34m.\u001b[0m\u001b[0mastype\u001b[0m\u001b[0;34m(\u001b[0m\u001b[0mdtype\u001b[0m\u001b[0;34m=\u001b[0m\u001b[0mdtype\u001b[0m\u001b[0;34m,\u001b[0m \u001b[0mcopy\u001b[0m\u001b[0;34m=\u001b[0m\u001b[0mcopy\u001b[0m\u001b[0;34m,\u001b[0m \u001b[0merrors\u001b[0m\u001b[0;34m=\u001b[0m\u001b[0merrors\u001b[0m\u001b[0;34m,\u001b[0m\u001b[0;34m)\u001b[0m\u001b[0;34m\u001b[0m\u001b[0;34m\u001b[0m\u001b[0m\n\u001b[0m\u001b[1;32m   5547\u001b[0m             \u001b[0;32mreturn\u001b[0m \u001b[0mself\u001b[0m\u001b[0;34m.\u001b[0m\u001b[0m_constructor\u001b[0m\u001b[0;34m(\u001b[0m\u001b[0mnew_data\u001b[0m\u001b[0;34m)\u001b[0m\u001b[0;34m.\u001b[0m\u001b[0m__finalize__\u001b[0m\u001b[0;34m(\u001b[0m\u001b[0mself\u001b[0m\u001b[0;34m,\u001b[0m \u001b[0mmethod\u001b[0m\u001b[0;34m=\u001b[0m\u001b[0;34m\"astype\"\u001b[0m\u001b[0;34m)\u001b[0m\u001b[0;34m\u001b[0m\u001b[0;34m\u001b[0m\u001b[0m\n\u001b[1;32m   5548\u001b[0m \u001b[0;34m\u001b[0m\u001b[0m\n",
      "\u001b[0;32m//anaconda3/envs/learn-env/lib/python3.8/site-packages/pandas/core/internals/managers.py\u001b[0m in \u001b[0;36mastype\u001b[0;34m(self, dtype, copy, errors)\u001b[0m\n\u001b[1;32m    593\u001b[0m         \u001b[0mself\u001b[0m\u001b[0;34m,\u001b[0m \u001b[0mdtype\u001b[0m\u001b[0;34m,\u001b[0m \u001b[0mcopy\u001b[0m\u001b[0;34m:\u001b[0m \u001b[0mbool\u001b[0m \u001b[0;34m=\u001b[0m \u001b[0;32mFalse\u001b[0m\u001b[0;34m,\u001b[0m \u001b[0merrors\u001b[0m\u001b[0;34m:\u001b[0m \u001b[0mstr\u001b[0m \u001b[0;34m=\u001b[0m \u001b[0;34m\"raise\"\u001b[0m\u001b[0;34m\u001b[0m\u001b[0;34m\u001b[0m\u001b[0m\n\u001b[1;32m    594\u001b[0m     ) -> \"BlockManager\":\n\u001b[0;32m--> 595\u001b[0;31m         \u001b[0;32mreturn\u001b[0m \u001b[0mself\u001b[0m\u001b[0;34m.\u001b[0m\u001b[0mapply\u001b[0m\u001b[0;34m(\u001b[0m\u001b[0;34m\"astype\"\u001b[0m\u001b[0;34m,\u001b[0m \u001b[0mdtype\u001b[0m\u001b[0;34m=\u001b[0m\u001b[0mdtype\u001b[0m\u001b[0;34m,\u001b[0m \u001b[0mcopy\u001b[0m\u001b[0;34m=\u001b[0m\u001b[0mcopy\u001b[0m\u001b[0;34m,\u001b[0m \u001b[0merrors\u001b[0m\u001b[0;34m=\u001b[0m\u001b[0merrors\u001b[0m\u001b[0;34m)\u001b[0m\u001b[0;34m\u001b[0m\u001b[0;34m\u001b[0m\u001b[0m\n\u001b[0m\u001b[1;32m    596\u001b[0m \u001b[0;34m\u001b[0m\u001b[0m\n\u001b[1;32m    597\u001b[0m     def convert(\n",
      "\u001b[0;32m//anaconda3/envs/learn-env/lib/python3.8/site-packages/pandas/core/internals/managers.py\u001b[0m in \u001b[0;36mapply\u001b[0;34m(self, f, align_keys, **kwargs)\u001b[0m\n\u001b[1;32m    404\u001b[0m                 \u001b[0mapplied\u001b[0m \u001b[0;34m=\u001b[0m \u001b[0mb\u001b[0m\u001b[0;34m.\u001b[0m\u001b[0mapply\u001b[0m\u001b[0;34m(\u001b[0m\u001b[0mf\u001b[0m\u001b[0;34m,\u001b[0m \u001b[0;34m**\u001b[0m\u001b[0mkwargs\u001b[0m\u001b[0;34m)\u001b[0m\u001b[0;34m\u001b[0m\u001b[0;34m\u001b[0m\u001b[0m\n\u001b[1;32m    405\u001b[0m             \u001b[0;32melse\u001b[0m\u001b[0;34m:\u001b[0m\u001b[0;34m\u001b[0m\u001b[0;34m\u001b[0m\u001b[0m\n\u001b[0;32m--> 406\u001b[0;31m                 \u001b[0mapplied\u001b[0m \u001b[0;34m=\u001b[0m \u001b[0mgetattr\u001b[0m\u001b[0;34m(\u001b[0m\u001b[0mb\u001b[0m\u001b[0;34m,\u001b[0m \u001b[0mf\u001b[0m\u001b[0;34m)\u001b[0m\u001b[0;34m(\u001b[0m\u001b[0;34m**\u001b[0m\u001b[0mkwargs\u001b[0m\u001b[0;34m)\u001b[0m\u001b[0;34m\u001b[0m\u001b[0;34m\u001b[0m\u001b[0m\n\u001b[0m\u001b[1;32m    407\u001b[0m             \u001b[0mresult_blocks\u001b[0m \u001b[0;34m=\u001b[0m \u001b[0m_extend_blocks\u001b[0m\u001b[0;34m(\u001b[0m\u001b[0mapplied\u001b[0m\u001b[0;34m,\u001b[0m \u001b[0mresult_blocks\u001b[0m\u001b[0;34m)\u001b[0m\u001b[0;34m\u001b[0m\u001b[0;34m\u001b[0m\u001b[0m\n\u001b[1;32m    408\u001b[0m \u001b[0;34m\u001b[0m\u001b[0m\n",
      "\u001b[0;32m//anaconda3/envs/learn-env/lib/python3.8/site-packages/pandas/core/internals/blocks.py\u001b[0m in \u001b[0;36mastype\u001b[0;34m(self, dtype, copy, errors)\u001b[0m\n\u001b[1;32m    593\u001b[0m             \u001b[0mvals1d\u001b[0m \u001b[0;34m=\u001b[0m \u001b[0mvalues\u001b[0m\u001b[0;34m.\u001b[0m\u001b[0mravel\u001b[0m\u001b[0;34m(\u001b[0m\u001b[0;34m)\u001b[0m\u001b[0;34m\u001b[0m\u001b[0;34m\u001b[0m\u001b[0m\n\u001b[1;32m    594\u001b[0m             \u001b[0;32mtry\u001b[0m\u001b[0;34m:\u001b[0m\u001b[0;34m\u001b[0m\u001b[0;34m\u001b[0m\u001b[0m\n\u001b[0;32m--> 595\u001b[0;31m                 \u001b[0mvalues\u001b[0m \u001b[0;34m=\u001b[0m \u001b[0mastype_nansafe\u001b[0m\u001b[0;34m(\u001b[0m\u001b[0mvals1d\u001b[0m\u001b[0;34m,\u001b[0m \u001b[0mdtype\u001b[0m\u001b[0;34m,\u001b[0m \u001b[0mcopy\u001b[0m\u001b[0;34m=\u001b[0m\u001b[0;32mTrue\u001b[0m\u001b[0;34m)\u001b[0m\u001b[0;34m\u001b[0m\u001b[0;34m\u001b[0m\u001b[0m\n\u001b[0m\u001b[1;32m    596\u001b[0m             \u001b[0;32mexcept\u001b[0m \u001b[0;34m(\u001b[0m\u001b[0mValueError\u001b[0m\u001b[0;34m,\u001b[0m \u001b[0mTypeError\u001b[0m\u001b[0;34m)\u001b[0m\u001b[0;34m:\u001b[0m\u001b[0;34m\u001b[0m\u001b[0;34m\u001b[0m\u001b[0m\n\u001b[1;32m    597\u001b[0m                 \u001b[0;31m# e.g. astype_nansafe can fail on object-dtype of strings\u001b[0m\u001b[0;34m\u001b[0m\u001b[0;34m\u001b[0m\u001b[0;34m\u001b[0m\u001b[0m\n",
      "\u001b[0;32m//anaconda3/envs/learn-env/lib/python3.8/site-packages/pandas/core/dtypes/cast.py\u001b[0m in \u001b[0;36mastype_nansafe\u001b[0;34m(arr, dtype, copy, skipna)\u001b[0m\n\u001b[1;32m    970\u001b[0m         \u001b[0;31m# work around NumPy brokenness, #1987\u001b[0m\u001b[0;34m\u001b[0m\u001b[0;34m\u001b[0m\u001b[0;34m\u001b[0m\u001b[0m\n\u001b[1;32m    971\u001b[0m         \u001b[0;32mif\u001b[0m \u001b[0mnp\u001b[0m\u001b[0;34m.\u001b[0m\u001b[0missubdtype\u001b[0m\u001b[0;34m(\u001b[0m\u001b[0mdtype\u001b[0m\u001b[0;34m.\u001b[0m\u001b[0mtype\u001b[0m\u001b[0;34m,\u001b[0m \u001b[0mnp\u001b[0m\u001b[0;34m.\u001b[0m\u001b[0minteger\u001b[0m\u001b[0;34m)\u001b[0m\u001b[0;34m:\u001b[0m\u001b[0;34m\u001b[0m\u001b[0;34m\u001b[0m\u001b[0m\n\u001b[0;32m--> 972\u001b[0;31m             \u001b[0;32mreturn\u001b[0m \u001b[0mlib\u001b[0m\u001b[0;34m.\u001b[0m\u001b[0mastype_intsafe\u001b[0m\u001b[0;34m(\u001b[0m\u001b[0marr\u001b[0m\u001b[0;34m.\u001b[0m\u001b[0mravel\u001b[0m\u001b[0;34m(\u001b[0m\u001b[0;34m)\u001b[0m\u001b[0;34m,\u001b[0m \u001b[0mdtype\u001b[0m\u001b[0;34m)\u001b[0m\u001b[0;34m.\u001b[0m\u001b[0mreshape\u001b[0m\u001b[0;34m(\u001b[0m\u001b[0marr\u001b[0m\u001b[0;34m.\u001b[0m\u001b[0mshape\u001b[0m\u001b[0;34m)\u001b[0m\u001b[0;34m\u001b[0m\u001b[0;34m\u001b[0m\u001b[0m\n\u001b[0m\u001b[1;32m    973\u001b[0m \u001b[0;34m\u001b[0m\u001b[0m\n\u001b[1;32m    974\u001b[0m         \u001b[0;31m# if we have a datetime/timedelta array of objects\u001b[0m\u001b[0;34m\u001b[0m\u001b[0;34m\u001b[0m\u001b[0;34m\u001b[0m\u001b[0m\n",
      "\u001b[0;32mpandas/_libs/lib.pyx\u001b[0m in \u001b[0;36mpandas._libs.lib.astype_intsafe\u001b[0;34m()\u001b[0m\n",
      "\u001b[0;31mValueError\u001b[0m: invalid literal for int() with base 10: 'NQR456W'"
     ]
    }
   ],
   "source": [
    "df['LINENAME'] = df['LINENAME'].astype(int)"
   ]
  },
  {
   "cell_type": "markdown",
   "metadata": {},
   "source": [
    "## Converting Dates\n",
    "\n",
    "A slightly more complicated data type transformation is creating *date* or *datetime* objects. These are pandas data types that have useful information such as being able to quickly calculate the time between two days, or extracting the day of the week from a given date. However, if we look at our current date column, we will notice it is simply a dtype `object` (all strings)."
   ]
  },
  {
   "cell_type": "code",
   "execution_count": 36,
   "metadata": {},
   "outputs": [
    {
     "data": {
      "text/plain": [
       "0    08/25/2018\n",
       "1    08/25/2018\n",
       "2    08/25/2018\n",
       "3    08/25/2018\n",
       "4    08/25/2018\n",
       "Name: DATE, dtype: object"
      ]
     },
     "execution_count": 36,
     "metadata": {},
     "output_type": "execute_result"
    }
   ],
   "source": [
    "df['DATE'].head()"
   ]
  },
  {
   "cell_type": "markdown",
   "metadata": {},
   "source": [
    "### `pd.to_datetime()`\n",
    "\n",
    "This is the handiest of methods when converting strings to datetime objects.\n",
    "\n",
    "Often you can simply pass the series into this function, but it is good practice to preview the results first to prevent overwriting data if some error occurs."
   ]
  },
  {
   "cell_type": "code",
   "execution_count": 37,
   "metadata": {},
   "outputs": [
    {
     "data": {
      "text/plain": [
       "0   2018-08-25\n",
       "1   2018-08-25\n",
       "2   2018-08-25\n",
       "3   2018-08-25\n",
       "4   2018-08-25\n",
       "Name: DATE, dtype: datetime64[ns]"
      ]
     },
     "execution_count": 37,
     "metadata": {},
     "output_type": "execute_result"
    }
   ],
   "source": [
    "pd.to_datetime(df['DATE']).head()"
   ]
  },
  {
   "cell_type": "markdown",
   "metadata": {},
   "source": [
    "That worked.\n",
    "\n",
    "Note that the `dtype` has changed from `object` to `datetime64[ns]`.\n",
    "\n",
    "Sometimes the above won't work and you'll have to explicitly pass an argument describing how the date is formatted.  \n",
    "To do that, you have to use some datetime codes. Here's a preview of some of the most common ones:  \n",
    "<img src=\"images/strftime_codes.png\" width=600>"
   ]
  },
  {
   "cell_type": "markdown",
   "metadata": {},
   "source": [
    "To explicitly pass formatting parameters, start by previewing your dates to understand their current format as strings."
   ]
  },
  {
   "cell_type": "code",
   "execution_count": 38,
   "metadata": {},
   "outputs": [
    {
     "data": {
      "text/plain": [
       "'08/25/2018'"
      ]
     },
     "execution_count": 38,
     "metadata": {},
     "output_type": "execute_result"
    }
   ],
   "source": [
    "# Selecting just the first date entry\n",
    "df['DATE'].iloc[0] "
   ]
  },
  {
   "cell_type": "markdown",
   "metadata": {},
   "source": [
    "Based on that, it looks like we have:\n",
    "\n",
    "* `08`: a month code with zero padding. So that's `%m` in the table above\n",
    "* `/`: a delimiter\n",
    "* `25`: a day of the month. It's not clear that it's zero-padded but we'll go ahead and say it's a `%d` in the table above\n",
    "* `/`: another delimiter\n",
    "* `2018`: a year with the century (it would just be `18` without the century). So that's `%Y` in the table above\n",
    "\n",
    "All together, `%m` + `/` + `%d` + `/` + `%Y` = `%m/%d/%Y`, so we'll use that as the format."
   ]
  },
  {
   "cell_type": "code",
   "execution_count": 39,
   "metadata": {
    "scrolled": true
   },
   "outputs": [
    {
     "data": {
      "text/plain": [
       "0   2018-08-25\n",
       "1   2018-08-25\n",
       "2   2018-08-25\n",
       "3   2018-08-25\n",
       "4   2018-08-25\n",
       "Name: DATE, dtype: datetime64[ns]"
      ]
     },
     "execution_count": 39,
     "metadata": {},
     "output_type": "execute_result"
    }
   ],
   "source": [
    "pd.to_datetime(df['DATE'], format='%m/%d/%Y').head()"
   ]
  },
  {
   "cell_type": "markdown",
   "metadata": {},
   "source": [
    "This has the equivalent behavior for this particular dataset as when we skipped the `format` argument, since pandas was able to detect the format correctly, automatically.\n",
    "\n",
    "Now let's actually change the whole dataframe's `DATE` to a datetime (skipping the format since we didn't actually need it here):"
   ]
  },
  {
   "cell_type": "code",
   "execution_count": 40,
   "metadata": {},
   "outputs": [
    {
     "data": {
      "text/html": [
       "<div>\n",
       "<style scoped>\n",
       "    .dataframe tbody tr th:only-of-type {\n",
       "        vertical-align: middle;\n",
       "    }\n",
       "\n",
       "    .dataframe tbody tr th {\n",
       "        vertical-align: top;\n",
       "    }\n",
       "\n",
       "    .dataframe thead th {\n",
       "        text-align: right;\n",
       "    }\n",
       "</style>\n",
       "<table border=\"1\" class=\"dataframe\">\n",
       "  <thead>\n",
       "    <tr style=\"text-align: right;\">\n",
       "      <th></th>\n",
       "      <th>CONTROL_AREA</th>\n",
       "      <th>UNIT</th>\n",
       "      <th>SCP</th>\n",
       "      <th>STATION</th>\n",
       "      <th>LINENAME</th>\n",
       "      <th>DIVISION</th>\n",
       "      <th>DATE</th>\n",
       "      <th>TIME</th>\n",
       "      <th>ENTRIES</th>\n",
       "      <th>EXITS</th>\n",
       "      <th>On_N_Line</th>\n",
       "    </tr>\n",
       "  </thead>\n",
       "  <tbody>\n",
       "    <tr>\n",
       "      <th>0</th>\n",
       "      <td>A002</td>\n",
       "      <td>R051</td>\n",
       "      <td>02-00-00</td>\n",
       "      <td>59 ST</td>\n",
       "      <td>NQR456W</td>\n",
       "      <td>Brooklyn–Manhattan Transit Corporation</td>\n",
       "      <td>2018-08-25</td>\n",
       "      <td>00:00:00</td>\n",
       "      <td>6736067</td>\n",
       "      <td>0002283184                                    ...</td>\n",
       "      <td>True</td>\n",
       "    </tr>\n",
       "    <tr>\n",
       "      <th>1</th>\n",
       "      <td>A002</td>\n",
       "      <td>R051</td>\n",
       "      <td>02-00-00</td>\n",
       "      <td>59 ST</td>\n",
       "      <td>NQR456W</td>\n",
       "      <td>Brooklyn–Manhattan Transit Corporation</td>\n",
       "      <td>2018-08-25</td>\n",
       "      <td>04:00:00</td>\n",
       "      <td>6736087</td>\n",
       "      <td>0002283188                                    ...</td>\n",
       "      <td>True</td>\n",
       "    </tr>\n",
       "  </tbody>\n",
       "</table>\n",
       "</div>"
      ],
      "text/plain": [
       "  CONTROL_AREA  UNIT       SCP STATION LINENAME  \\\n",
       "0         A002  R051  02-00-00   59 ST  NQR456W   \n",
       "1         A002  R051  02-00-00   59 ST  NQR456W   \n",
       "\n",
       "                                 DIVISION       DATE      TIME  ENTRIES  \\\n",
       "0  Brooklyn–Manhattan Transit Corporation 2018-08-25  00:00:00  6736067   \n",
       "1  Brooklyn–Manhattan Transit Corporation 2018-08-25  04:00:00  6736087   \n",
       "\n",
       "                                               EXITS  On_N_Line  \n",
       "0  0002283184                                    ...       True  \n",
       "1  0002283188                                    ...       True  "
      ]
     },
     "execution_count": 40,
     "metadata": {},
     "output_type": "execute_result"
    }
   ],
   "source": [
    "df['DATE'] = pd.to_datetime(df['DATE'])\n",
    "df.head(2)"
   ]
  },
  {
   "cell_type": "code",
   "execution_count": 41,
   "metadata": {},
   "outputs": [
    {
     "data": {
      "text/plain": [
       "91546    2018-08-30\n",
       "75472    2018-08-31\n",
       "151239   2018-08-30\n",
       "77535    2018-08-25\n",
       "73591    2018-08-27\n",
       "10204    2018-08-28\n",
       "51946    2018-08-27\n",
       "129569   2018-08-26\n",
       "10655    2018-08-25\n",
       "11334    2018-08-30\n",
       "Name: DATE, dtype: datetime64[ns]"
      ]
     },
     "execution_count": 41,
     "metadata": {},
     "output_type": "execute_result"
    }
   ],
   "source": [
    "# Make a sample of rows so we can see various dates\n",
    "date_sample = df['DATE'].sample(n=10, random_state=0)\n",
    "date_sample"
   ]
  },
  {
   "cell_type": "markdown",
   "metadata": {},
   "source": [
    "### Applying Datetime Methods\n",
    "\n",
    "Now that we have converted the `DATE` field to a datetime object we can use some handy built-in methods.\n",
    "\n",
    "For example, finding the name of the day of the week:"
   ]
  },
  {
   "cell_type": "code",
   "execution_count": 42,
   "metadata": {},
   "outputs": [
    {
     "data": {
      "text/plain": [
       "91546     Thursday\n",
       "75472       Friday\n",
       "151239    Thursday\n",
       "77535     Saturday\n",
       "73591       Monday\n",
       "10204      Tuesday\n",
       "51946       Monday\n",
       "129569      Sunday\n",
       "10655     Saturday\n",
       "11334     Thursday\n",
       "Name: DATE, dtype: object"
      ]
     },
     "execution_count": 42,
     "metadata": {},
     "output_type": "execute_result"
    }
   ],
   "source": [
    "# .dt stores all the pandas datetime methods (only works for datetime columns)\n",
    "date_sample.dt.day_name()"
   ]
  },
  {
   "cell_type": "markdown",
   "metadata": {},
   "source": [
    "Or, rounding to the nearest 7 days:"
   ]
  },
  {
   "cell_type": "code",
   "execution_count": 43,
   "metadata": {},
   "outputs": [
    {
     "data": {
      "text/plain": [
       "91546    2018-08-30\n",
       "75472    2018-08-30\n",
       "151239   2018-08-30\n",
       "77535    2018-08-23\n",
       "73591    2018-08-30\n",
       "10204    2018-08-30\n",
       "51946    2018-08-30\n",
       "129569   2018-08-23\n",
       "10655    2018-08-23\n",
       "11334    2018-08-30\n",
       "Name: DATE, dtype: datetime64[ns]"
      ]
     },
     "execution_count": 43,
     "metadata": {},
     "output_type": "execute_result"
    }
   ],
   "source": [
    "date_sample.dt.round('7D')"
   ]
  },
  {
   "cell_type": "markdown",
   "metadata": {},
   "source": [
    "## Setting a New Index\n",
    "\n",
    "It can also be helpful to set one of the columns as the index of the DataFrame, such as when graphing."
   ]
  },
  {
   "cell_type": "code",
   "execution_count": 44,
   "metadata": {},
   "outputs": [
    {
     "data": {
      "text/html": [
       "<div>\n",
       "<style scoped>\n",
       "    .dataframe tbody tr th:only-of-type {\n",
       "        vertical-align: middle;\n",
       "    }\n",
       "\n",
       "    .dataframe tbody tr th {\n",
       "        vertical-align: top;\n",
       "    }\n",
       "\n",
       "    .dataframe thead th {\n",
       "        text-align: right;\n",
       "    }\n",
       "</style>\n",
       "<table border=\"1\" class=\"dataframe\">\n",
       "  <thead>\n",
       "    <tr style=\"text-align: right;\">\n",
       "      <th></th>\n",
       "      <th>CONTROL_AREA</th>\n",
       "      <th>UNIT</th>\n",
       "      <th>SCP</th>\n",
       "      <th>STATION</th>\n",
       "      <th>LINENAME</th>\n",
       "      <th>DIVISION</th>\n",
       "      <th>TIME</th>\n",
       "      <th>ENTRIES</th>\n",
       "      <th>EXITS</th>\n",
       "      <th>On_N_Line</th>\n",
       "    </tr>\n",
       "    <tr>\n",
       "      <th>DATE</th>\n",
       "      <th></th>\n",
       "      <th></th>\n",
       "      <th></th>\n",
       "      <th></th>\n",
       "      <th></th>\n",
       "      <th></th>\n",
       "      <th></th>\n",
       "      <th></th>\n",
       "      <th></th>\n",
       "      <th></th>\n",
       "    </tr>\n",
       "  </thead>\n",
       "  <tbody>\n",
       "    <tr>\n",
       "      <th>2018-08-25</th>\n",
       "      <td>A002</td>\n",
       "      <td>R051</td>\n",
       "      <td>02-00-00</td>\n",
       "      <td>59 ST</td>\n",
       "      <td>NQR456W</td>\n",
       "      <td>Brooklyn–Manhattan Transit Corporation</td>\n",
       "      <td>00:00:00</td>\n",
       "      <td>6736067</td>\n",
       "      <td>0002283184                                    ...</td>\n",
       "      <td>True</td>\n",
       "    </tr>\n",
       "    <tr>\n",
       "      <th>2018-08-25</th>\n",
       "      <td>A002</td>\n",
       "      <td>R051</td>\n",
       "      <td>02-00-00</td>\n",
       "      <td>59 ST</td>\n",
       "      <td>NQR456W</td>\n",
       "      <td>Brooklyn–Manhattan Transit Corporation</td>\n",
       "      <td>04:00:00</td>\n",
       "      <td>6736087</td>\n",
       "      <td>0002283188                                    ...</td>\n",
       "      <td>True</td>\n",
       "    </tr>\n",
       "    <tr>\n",
       "      <th>2018-08-25</th>\n",
       "      <td>A002</td>\n",
       "      <td>R051</td>\n",
       "      <td>02-00-00</td>\n",
       "      <td>59 ST</td>\n",
       "      <td>NQR456W</td>\n",
       "      <td>Brooklyn–Manhattan Transit Corporation</td>\n",
       "      <td>08:00:00</td>\n",
       "      <td>6736105</td>\n",
       "      <td>0002283229                                    ...</td>\n",
       "      <td>True</td>\n",
       "    </tr>\n",
       "    <tr>\n",
       "      <th>2018-08-25</th>\n",
       "      <td>A002</td>\n",
       "      <td>R051</td>\n",
       "      <td>02-00-00</td>\n",
       "      <td>59 ST</td>\n",
       "      <td>NQR456W</td>\n",
       "      <td>Brooklyn–Manhattan Transit Corporation</td>\n",
       "      <td>12:00:00</td>\n",
       "      <td>6736180</td>\n",
       "      <td>0002283314                                    ...</td>\n",
       "      <td>True</td>\n",
       "    </tr>\n",
       "    <tr>\n",
       "      <th>2018-08-25</th>\n",
       "      <td>A002</td>\n",
       "      <td>R051</td>\n",
       "      <td>02-00-00</td>\n",
       "      <td>59 ST</td>\n",
       "      <td>NQR456W</td>\n",
       "      <td>Brooklyn–Manhattan Transit Corporation</td>\n",
       "      <td>16:00:00</td>\n",
       "      <td>6736349</td>\n",
       "      <td>0002283384                                    ...</td>\n",
       "      <td>True</td>\n",
       "    </tr>\n",
       "  </tbody>\n",
       "</table>\n",
       "</div>"
      ],
      "text/plain": [
       "           CONTROL_AREA  UNIT       SCP STATION LINENAME  \\\n",
       "DATE                                                       \n",
       "2018-08-25         A002  R051  02-00-00   59 ST  NQR456W   \n",
       "2018-08-25         A002  R051  02-00-00   59 ST  NQR456W   \n",
       "2018-08-25         A002  R051  02-00-00   59 ST  NQR456W   \n",
       "2018-08-25         A002  R051  02-00-00   59 ST  NQR456W   \n",
       "2018-08-25         A002  R051  02-00-00   59 ST  NQR456W   \n",
       "\n",
       "                                          DIVISION      TIME  ENTRIES  \\\n",
       "DATE                                                                    \n",
       "2018-08-25  Brooklyn–Manhattan Transit Corporation  00:00:00  6736067   \n",
       "2018-08-25  Brooklyn–Manhattan Transit Corporation  04:00:00  6736087   \n",
       "2018-08-25  Brooklyn–Manhattan Transit Corporation  08:00:00  6736105   \n",
       "2018-08-25  Brooklyn–Manhattan Transit Corporation  12:00:00  6736180   \n",
       "2018-08-25  Brooklyn–Manhattan Transit Corporation  16:00:00  6736349   \n",
       "\n",
       "                                                        EXITS  On_N_Line  \n",
       "DATE                                                                      \n",
       "2018-08-25  0002283184                                    ...       True  \n",
       "2018-08-25  0002283188                                    ...       True  \n",
       "2018-08-25  0002283229                                    ...       True  \n",
       "2018-08-25  0002283314                                    ...       True  \n",
       "2018-08-25  0002283384                                    ...       True  "
      ]
     },
     "execution_count": 44,
     "metadata": {},
     "output_type": "execute_result"
    }
   ],
   "source": [
    "df = df.set_index('DATE')\n",
    "df.head()"
   ]
  },
  {
   "cell_type": "markdown",
   "metadata": {},
   "source": [
    "Or the opposite, resetting the index so that the current index becomes a column and a new index is created:"
   ]
  },
  {
   "cell_type": "code",
   "execution_count": 45,
   "metadata": {},
   "outputs": [
    {
     "data": {
      "text/html": [
       "<div>\n",
       "<style scoped>\n",
       "    .dataframe tbody tr th:only-of-type {\n",
       "        vertical-align: middle;\n",
       "    }\n",
       "\n",
       "    .dataframe tbody tr th {\n",
       "        vertical-align: top;\n",
       "    }\n",
       "\n",
       "    .dataframe thead th {\n",
       "        text-align: right;\n",
       "    }\n",
       "</style>\n",
       "<table border=\"1\" class=\"dataframe\">\n",
       "  <thead>\n",
       "    <tr style=\"text-align: right;\">\n",
       "      <th></th>\n",
       "      <th>DATE</th>\n",
       "      <th>CONTROL_AREA</th>\n",
       "      <th>UNIT</th>\n",
       "      <th>SCP</th>\n",
       "      <th>STATION</th>\n",
       "      <th>LINENAME</th>\n",
       "      <th>DIVISION</th>\n",
       "      <th>TIME</th>\n",
       "      <th>ENTRIES</th>\n",
       "      <th>EXITS</th>\n",
       "      <th>On_N_Line</th>\n",
       "    </tr>\n",
       "  </thead>\n",
       "  <tbody>\n",
       "    <tr>\n",
       "      <th>0</th>\n",
       "      <td>2018-08-25</td>\n",
       "      <td>A002</td>\n",
       "      <td>R051</td>\n",
       "      <td>02-00-00</td>\n",
       "      <td>59 ST</td>\n",
       "      <td>NQR456W</td>\n",
       "      <td>Brooklyn–Manhattan Transit Corporation</td>\n",
       "      <td>00:00:00</td>\n",
       "      <td>6736067</td>\n",
       "      <td>0002283184                                    ...</td>\n",
       "      <td>True</td>\n",
       "    </tr>\n",
       "    <tr>\n",
       "      <th>1</th>\n",
       "      <td>2018-08-25</td>\n",
       "      <td>A002</td>\n",
       "      <td>R051</td>\n",
       "      <td>02-00-00</td>\n",
       "      <td>59 ST</td>\n",
       "      <td>NQR456W</td>\n",
       "      <td>Brooklyn–Manhattan Transit Corporation</td>\n",
       "      <td>04:00:00</td>\n",
       "      <td>6736087</td>\n",
       "      <td>0002283188                                    ...</td>\n",
       "      <td>True</td>\n",
       "    </tr>\n",
       "    <tr>\n",
       "      <th>2</th>\n",
       "      <td>2018-08-25</td>\n",
       "      <td>A002</td>\n",
       "      <td>R051</td>\n",
       "      <td>02-00-00</td>\n",
       "      <td>59 ST</td>\n",
       "      <td>NQR456W</td>\n",
       "      <td>Brooklyn–Manhattan Transit Corporation</td>\n",
       "      <td>08:00:00</td>\n",
       "      <td>6736105</td>\n",
       "      <td>0002283229                                    ...</td>\n",
       "      <td>True</td>\n",
       "    </tr>\n",
       "    <tr>\n",
       "      <th>3</th>\n",
       "      <td>2018-08-25</td>\n",
       "      <td>A002</td>\n",
       "      <td>R051</td>\n",
       "      <td>02-00-00</td>\n",
       "      <td>59 ST</td>\n",
       "      <td>NQR456W</td>\n",
       "      <td>Brooklyn–Manhattan Transit Corporation</td>\n",
       "      <td>12:00:00</td>\n",
       "      <td>6736180</td>\n",
       "      <td>0002283314                                    ...</td>\n",
       "      <td>True</td>\n",
       "    </tr>\n",
       "    <tr>\n",
       "      <th>4</th>\n",
       "      <td>2018-08-25</td>\n",
       "      <td>A002</td>\n",
       "      <td>R051</td>\n",
       "      <td>02-00-00</td>\n",
       "      <td>59 ST</td>\n",
       "      <td>NQR456W</td>\n",
       "      <td>Brooklyn–Manhattan Transit Corporation</td>\n",
       "      <td>16:00:00</td>\n",
       "      <td>6736349</td>\n",
       "      <td>0002283384                                    ...</td>\n",
       "      <td>True</td>\n",
       "    </tr>\n",
       "    <tr>\n",
       "      <th>...</th>\n",
       "      <td>...</td>\n",
       "      <td>...</td>\n",
       "      <td>...</td>\n",
       "      <td>...</td>\n",
       "      <td>...</td>\n",
       "      <td>...</td>\n",
       "      <td>...</td>\n",
       "      <td>...</td>\n",
       "      <td>...</td>\n",
       "      <td>...</td>\n",
       "      <td>...</td>\n",
       "    </tr>\n",
       "    <tr>\n",
       "      <th>197620</th>\n",
       "      <td>2018-08-31</td>\n",
       "      <td>TRAM2</td>\n",
       "      <td>R469</td>\n",
       "      <td>00-05-01</td>\n",
       "      <td>RIT-ROOSEVELT</td>\n",
       "      <td>R</td>\n",
       "      <td>Roosevelt Island Tram</td>\n",
       "      <td>05:00:00</td>\n",
       "      <td>5554</td>\n",
       "      <td>0000000348                                    ...</td>\n",
       "      <td>False</td>\n",
       "    </tr>\n",
       "    <tr>\n",
       "      <th>197621</th>\n",
       "      <td>2018-08-31</td>\n",
       "      <td>TRAM2</td>\n",
       "      <td>R469</td>\n",
       "      <td>00-05-01</td>\n",
       "      <td>RIT-ROOSEVELT</td>\n",
       "      <td>R</td>\n",
       "      <td>Roosevelt Island Tram</td>\n",
       "      <td>09:00:00</td>\n",
       "      <td>5554</td>\n",
       "      <td>0000000348                                    ...</td>\n",
       "      <td>False</td>\n",
       "    </tr>\n",
       "    <tr>\n",
       "      <th>197622</th>\n",
       "      <td>2018-08-31</td>\n",
       "      <td>TRAM2</td>\n",
       "      <td>R469</td>\n",
       "      <td>00-05-01</td>\n",
       "      <td>RIT-ROOSEVELT</td>\n",
       "      <td>R</td>\n",
       "      <td>Roosevelt Island Tram</td>\n",
       "      <td>13:00:00</td>\n",
       "      <td>5554</td>\n",
       "      <td>0000000348                                    ...</td>\n",
       "      <td>False</td>\n",
       "    </tr>\n",
       "    <tr>\n",
       "      <th>197623</th>\n",
       "      <td>2018-08-31</td>\n",
       "      <td>TRAM2</td>\n",
       "      <td>R469</td>\n",
       "      <td>00-05-01</td>\n",
       "      <td>RIT-ROOSEVELT</td>\n",
       "      <td>R</td>\n",
       "      <td>Roosevelt Island Tram</td>\n",
       "      <td>17:00:00</td>\n",
       "      <td>5554</td>\n",
       "      <td>0000000348                                    ...</td>\n",
       "      <td>False</td>\n",
       "    </tr>\n",
       "    <tr>\n",
       "      <th>197624</th>\n",
       "      <td>2018-08-31</td>\n",
       "      <td>TRAM2</td>\n",
       "      <td>R469</td>\n",
       "      <td>00-05-01</td>\n",
       "      <td>RIT-ROOSEVELT</td>\n",
       "      <td>R</td>\n",
       "      <td>Roosevelt Island Tram</td>\n",
       "      <td>21:00:00</td>\n",
       "      <td>5554</td>\n",
       "      <td>0000000348                                    ...</td>\n",
       "      <td>False</td>\n",
       "    </tr>\n",
       "  </tbody>\n",
       "</table>\n",
       "<p>197625 rows × 11 columns</p>\n",
       "</div>"
      ],
      "text/plain": [
       "             DATE CONTROL_AREA  UNIT       SCP        STATION LINENAME  \\\n",
       "0      2018-08-25         A002  R051  02-00-00          59 ST  NQR456W   \n",
       "1      2018-08-25         A002  R051  02-00-00          59 ST  NQR456W   \n",
       "2      2018-08-25         A002  R051  02-00-00          59 ST  NQR456W   \n",
       "3      2018-08-25         A002  R051  02-00-00          59 ST  NQR456W   \n",
       "4      2018-08-25         A002  R051  02-00-00          59 ST  NQR456W   \n",
       "...           ...          ...   ...       ...            ...      ...   \n",
       "197620 2018-08-31        TRAM2  R469  00-05-01  RIT-ROOSEVELT        R   \n",
       "197621 2018-08-31        TRAM2  R469  00-05-01  RIT-ROOSEVELT        R   \n",
       "197622 2018-08-31        TRAM2  R469  00-05-01  RIT-ROOSEVELT        R   \n",
       "197623 2018-08-31        TRAM2  R469  00-05-01  RIT-ROOSEVELT        R   \n",
       "197624 2018-08-31        TRAM2  R469  00-05-01  RIT-ROOSEVELT        R   \n",
       "\n",
       "                                      DIVISION      TIME  ENTRIES  \\\n",
       "0       Brooklyn–Manhattan Transit Corporation  00:00:00  6736067   \n",
       "1       Brooklyn–Manhattan Transit Corporation  04:00:00  6736087   \n",
       "2       Brooklyn–Manhattan Transit Corporation  08:00:00  6736105   \n",
       "3       Brooklyn–Manhattan Transit Corporation  12:00:00  6736180   \n",
       "4       Brooklyn–Manhattan Transit Corporation  16:00:00  6736349   \n",
       "...                                        ...       ...      ...   \n",
       "197620                   Roosevelt Island Tram  05:00:00     5554   \n",
       "197621                   Roosevelt Island Tram  09:00:00     5554   \n",
       "197622                   Roosevelt Island Tram  13:00:00     5554   \n",
       "197623                   Roosevelt Island Tram  17:00:00     5554   \n",
       "197624                   Roosevelt Island Tram  21:00:00     5554   \n",
       "\n",
       "                                                    EXITS  On_N_Line  \n",
       "0       0002283184                                    ...       True  \n",
       "1       0002283188                                    ...       True  \n",
       "2       0002283229                                    ...       True  \n",
       "3       0002283314                                    ...       True  \n",
       "4       0002283384                                    ...       True  \n",
       "...                                                   ...        ...  \n",
       "197620  0000000348                                    ...      False  \n",
       "197621  0000000348                                    ...      False  \n",
       "197622  0000000348                                    ...      False  \n",
       "197623  0000000348                                    ...      False  \n",
       "197624  0000000348                                    ...      False  \n",
       "\n",
       "[197625 rows x 11 columns]"
      ]
     },
     "execution_count": 45,
     "metadata": {},
     "output_type": "execute_result"
    }
   ],
   "source": [
    "df.reset_index()"
   ]
  },
  {
   "cell_type": "markdown",
   "metadata": {},
   "source": [
    "## Summary\n",
    "\n",
    "We've seen in this lesson the differences between Pandas (Series and DataFrames) and base Python (Dictionaries and Lists) data types. Then we walked through transforming the values in a pandas Series, modifying the columns of a pandas DataFrame, and finally modifying the DataFrame index."
   ]
  }
 ],
 "metadata": {
  "kernelspec": {
   "display_name": "Python 3 (ipykernel)",
   "language": "python",
   "name": "python3"
  },
  "language_info": {
   "codemirror_mode": {
    "name": "ipython",
    "version": 3
   },
   "file_extension": ".py",
   "mimetype": "text/x-python",
   "name": "python",
   "nbconvert_exporter": "python",
   "pygments_lexer": "ipython3",
   "version": "3.12.7"
  }
 },
 "nbformat": 4,
 "nbformat_minor": 4
}
